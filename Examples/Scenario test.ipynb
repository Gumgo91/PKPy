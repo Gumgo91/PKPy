{
 "cells": [
  {
   "cell_type": "code",
   "execution_count": 7,
   "metadata": {},
   "outputs": [
    {
     "name": "stdout",
     "output_type": "stream",
     "text": [
      "  Running onecomp replicate 1/100\n",
      "NCA analysis completed. Success rate: 20/20 subjects\n",
      "  Running onecomp replicate 2/100\n",
      "NCA analysis completed. Success rate: 20/20 subjects\n",
      "  Running onecomp replicate 3/100\n",
      "NCA analysis completed. Success rate: 20/20 subjects\n",
      "  Running onecomp replicate 4/100\n",
      "NCA analysis completed. Success rate: 20/20 subjects\n",
      "  Running onecomp replicate 5/100\n",
      "NCA analysis completed. Success rate: 20/20 subjects\n",
      "  Running onecomp replicate 6/100\n",
      "NCA analysis completed. Success rate: 20/20 subjects\n",
      "  Running onecomp replicate 7/100\n",
      "NCA analysis completed. Success rate: 20/20 subjects\n",
      "  Running onecomp replicate 8/100\n",
      "NCA analysis completed. Success rate: 20/20 subjects\n",
      "  Running onecomp replicate 9/100\n",
      "NCA analysis completed. Success rate: 20/20 subjects\n",
      "  Running onecomp replicate 10/100\n",
      "NCA analysis completed. Success rate: 20/20 subjects\n",
      "  Running onecomp replicate 11/100\n",
      "NCA analysis completed. Success rate: 20/20 subjects\n",
      "  Running onecomp replicate 12/100\n",
      "NCA analysis completed. Success rate: 20/20 subjects\n",
      "  Running onecomp replicate 13/100\n",
      "NCA analysis completed. Success rate: 20/20 subjects\n",
      "  Running onecomp replicate 14/100\n",
      "NCA analysis completed. Success rate: 20/20 subjects\n",
      "  Running onecomp replicate 15/100\n",
      "NCA analysis completed. Success rate: 20/20 subjects\n",
      "  Running onecomp replicate 16/100\n",
      "NCA analysis completed. Success rate: 20/20 subjects\n",
      "  Running onecomp replicate 17/100\n",
      "NCA analysis completed. Success rate: 20/20 subjects\n",
      "  Running onecomp replicate 18/100\n",
      "NCA analysis completed. Success rate: 20/20 subjects\n",
      "  Running onecomp replicate 19/100\n",
      "NCA analysis completed. Success rate: 20/20 subjects\n",
      "  Running onecomp replicate 20/100\n",
      "NCA analysis completed. Success rate: 20/20 subjects\n",
      "  Running onecomp replicate 21/100\n",
      "NCA analysis completed. Success rate: 20/20 subjects\n",
      "  Running onecomp replicate 22/100\n",
      "NCA analysis completed. Success rate: 20/20 subjects\n",
      "  Running onecomp replicate 23/100\n",
      "NCA analysis completed. Success rate: 20/20 subjects\n",
      "  Running onecomp replicate 24/100\n",
      "NCA analysis completed. Success rate: 20/20 subjects\n"
     ]
    },
    {
     "name": "stderr",
     "output_type": "stream",
     "text": [
      "/Users/hskong/AI/PKPy/pkpy/pkpy/covariate_analysis.py:129: UserWarning: Optimization failed for CL-AGE\n",
      "  warnings.warn(f\"Optimization failed for {relationship.parameter}-{relationship.covariate}\")\n"
     ]
    },
    {
     "name": "stdout",
     "output_type": "stream",
     "text": [
      "  Running onecomp replicate 25/100\n",
      "NCA analysis completed. Success rate: 20/20 subjects\n",
      "  Running onecomp replicate 26/100\n",
      "NCA analysis completed. Success rate: 20/20 subjects\n",
      "  Running onecomp replicate 27/100\n",
      "NCA analysis completed. Success rate: 20/20 subjects\n",
      "  Running onecomp replicate 28/100\n",
      "NCA analysis completed. Success rate: 20/20 subjects\n",
      "  Running onecomp replicate 29/100\n",
      "NCA analysis completed. Success rate: 20/20 subjects\n",
      "  Running onecomp replicate 30/100\n",
      "NCA analysis completed. Success rate: 20/20 subjects\n",
      "  Running onecomp replicate 31/100\n",
      "NCA analysis completed. Success rate: 20/20 subjects\n",
      "  Running onecomp replicate 32/100\n",
      "NCA analysis completed. Success rate: 20/20 subjects\n",
      "  Running onecomp replicate 33/100\n",
      "NCA analysis completed. Success rate: 20/20 subjects\n",
      "  Running onecomp replicate 34/100\n",
      "NCA analysis completed. Success rate: 20/20 subjects\n",
      "  Running onecomp replicate 35/100\n",
      "NCA analysis completed. Success rate: 20/20 subjects\n",
      "  Running onecomp replicate 36/100\n",
      "NCA analysis completed. Success rate: 20/20 subjects\n",
      "  Running onecomp replicate 37/100\n",
      "NCA analysis completed. Success rate: 20/20 subjects\n",
      "  Running onecomp replicate 38/100\n",
      "NCA analysis completed. Success rate: 20/20 subjects\n",
      "  Running onecomp replicate 39/100\n",
      "NCA analysis completed. Success rate: 20/20 subjects\n",
      "  Running onecomp replicate 40/100\n",
      "NCA analysis completed. Success rate: 20/20 subjects\n",
      "  Running onecomp replicate 41/100\n",
      "NCA analysis completed. Success rate: 20/20 subjects\n",
      "  Running onecomp replicate 42/100\n",
      "NCA analysis completed. Success rate: 20/20 subjects\n",
      "  Running onecomp replicate 43/100\n",
      "NCA analysis completed. Success rate: 20/20 subjects\n",
      "  Running onecomp replicate 44/100\n",
      "NCA analysis completed. Success rate: 20/20 subjects\n",
      "  Running onecomp replicate 45/100\n",
      "NCA analysis completed. Success rate: 20/20 subjects\n",
      "  Running onecomp replicate 46/100\n",
      "NCA analysis completed. Success rate: 20/20 subjects\n",
      "  Running onecomp replicate 47/100\n",
      "NCA analysis completed. Success rate: 20/20 subjects\n",
      "  Running onecomp replicate 48/100\n",
      "NCA analysis completed. Success rate: 20/20 subjects\n",
      "  Running onecomp replicate 49/100\n",
      "NCA analysis completed. Success rate: 20/20 subjects\n",
      "  Running onecomp replicate 50/100\n",
      "NCA analysis completed. Success rate: 20/20 subjects\n",
      "  Running onecomp replicate 51/100\n",
      "NCA analysis completed. Success rate: 20/20 subjects\n",
      "  Running onecomp replicate 52/100\n",
      "NCA analysis completed. Success rate: 20/20 subjects\n",
      "  Running onecomp replicate 53/100\n",
      "NCA analysis completed. Success rate: 20/20 subjects\n",
      "  Running onecomp replicate 54/100\n",
      "NCA analysis completed. Success rate: 20/20 subjects\n",
      "  Running onecomp replicate 55/100\n",
      "NCA analysis completed. Success rate: 20/20 subjects\n"
     ]
    },
    {
     "name": "stderr",
     "output_type": "stream",
     "text": [
      "/Users/hskong/AI/PKPy/pkpy/pkpy/covariate_analysis.py:129: UserWarning: Optimization failed for CL-AGE\n",
      "  warnings.warn(f\"Optimization failed for {relationship.parameter}-{relationship.covariate}\")\n"
     ]
    },
    {
     "name": "stdout",
     "output_type": "stream",
     "text": [
      "  Running onecomp replicate 56/100\n",
      "NCA analysis completed. Success rate: 20/20 subjects\n",
      "  Running onecomp replicate 57/100\n",
      "NCA analysis completed. Success rate: 20/20 subjects\n",
      "  Running onecomp replicate 58/100\n",
      "NCA analysis completed. Success rate: 20/20 subjects\n",
      "  Running onecomp replicate 59/100\n",
      "NCA analysis completed. Success rate: 20/20 subjects\n",
      "  Running onecomp replicate 60/100\n",
      "NCA analysis completed. Success rate: 20/20 subjects\n",
      "  Running onecomp replicate 61/100\n",
      "NCA analysis completed. Success rate: 20/20 subjects\n",
      "  Running onecomp replicate 62/100\n",
      "NCA analysis completed. Success rate: 20/20 subjects\n",
      "  Running onecomp replicate 63/100\n",
      "NCA analysis completed. Success rate: 20/20 subjects\n",
      "  Running onecomp replicate 64/100\n",
      "NCA analysis completed. Success rate: 20/20 subjects\n",
      "  Running onecomp replicate 65/100\n",
      "NCA analysis completed. Success rate: 20/20 subjects\n",
      "  Running onecomp replicate 66/100\n",
      "NCA analysis completed. Success rate: 20/20 subjects\n",
      "  Running onecomp replicate 67/100\n",
      "NCA analysis completed. Success rate: 20/20 subjects\n",
      "  Running onecomp replicate 68/100\n",
      "NCA analysis completed. Success rate: 20/20 subjects\n",
      "  Running onecomp replicate 69/100\n",
      "NCA analysis completed. Success rate: 20/20 subjects\n",
      "  Running onecomp replicate 70/100\n",
      "NCA analysis completed. Success rate: 20/20 subjects\n",
      "  Running onecomp replicate 71/100\n",
      "NCA analysis completed. Success rate: 20/20 subjects\n",
      "  Running onecomp replicate 72/100\n",
      "NCA analysis completed. Success rate: 20/20 subjects\n",
      "  Running onecomp replicate 73/100\n",
      "NCA analysis completed. Success rate: 20/20 subjects\n",
      "  Running onecomp replicate 74/100\n",
      "NCA analysis completed. Success rate: 20/20 subjects\n",
      "  Running onecomp replicate 75/100\n",
      "NCA analysis completed. Success rate: 20/20 subjects\n",
      "  Running onecomp replicate 76/100\n",
      "NCA analysis completed. Success rate: 20/20 subjects\n",
      "  Running onecomp replicate 77/100\n",
      "NCA analysis completed. Success rate: 20/20 subjects\n",
      "  Running onecomp replicate 78/100\n",
      "NCA analysis completed. Success rate: 20/20 subjects\n",
      "  Running onecomp replicate 79/100\n",
      "NCA analysis completed. Success rate: 20/20 subjects\n",
      "  Running onecomp replicate 80/100\n",
      "NCA analysis completed. Success rate: 20/20 subjects\n",
      "  Running onecomp replicate 81/100\n",
      "NCA analysis completed. Success rate: 20/20 subjects\n",
      "  Running onecomp replicate 82/100\n",
      "NCA analysis completed. Success rate: 20/20 subjects\n",
      "  Running onecomp replicate 83/100\n",
      "NCA analysis completed. Success rate: 20/20 subjects\n",
      "  Running onecomp replicate 84/100\n",
      "NCA analysis completed. Success rate: 20/20 subjects\n",
      "  Running onecomp replicate 85/100\n",
      "NCA analysis completed. Success rate: 20/20 subjects\n",
      "  Running onecomp replicate 86/100\n",
      "NCA analysis completed. Success rate: 20/20 subjects\n",
      "  Running onecomp replicate 87/100\n",
      "NCA analysis completed. Success rate: 20/20 subjects\n",
      "  Running onecomp replicate 88/100\n",
      "NCA analysis completed. Success rate: 20/20 subjects\n",
      "  Running onecomp replicate 89/100\n",
      "NCA analysis completed. Success rate: 20/20 subjects\n",
      "  Running onecomp replicate 90/100\n",
      "NCA analysis completed. Success rate: 20/20 subjects\n",
      "  Running onecomp replicate 91/100\n",
      "NCA analysis completed. Success rate: 20/20 subjects\n",
      "  Running onecomp replicate 92/100\n",
      "NCA analysis completed. Success rate: 20/20 subjects\n",
      "  Running onecomp replicate 93/100\n",
      "NCA analysis completed. Success rate: 20/20 subjects\n",
      "  Running onecomp replicate 94/100\n",
      "NCA analysis completed. Success rate: 20/20 subjects\n",
      "  Running onecomp replicate 95/100\n",
      "NCA analysis completed. Success rate: 20/20 subjects\n",
      "  Running onecomp replicate 96/100\n",
      "NCA analysis completed. Success rate: 20/20 subjects\n",
      "  Running onecomp replicate 97/100\n",
      "NCA analysis completed. Success rate: 20/20 subjects\n",
      "  Running onecomp replicate 98/100\n",
      "NCA analysis completed. Success rate: 20/20 subjects\n",
      "  Running onecomp replicate 99/100\n",
      "NCA analysis completed. Success rate: 20/20 subjects\n",
      "  Running onecomp replicate 100/100\n",
      "NCA analysis completed. Success rate: 20/20 subjects\n",
      "  Running onecomp replicate 1/100\n",
      "NCA analysis completed. Success rate: 50/50 subjects\n",
      "  Running onecomp replicate 2/100\n",
      "NCA analysis completed. Success rate: 50/50 subjects\n",
      "  Running onecomp replicate 3/100\n",
      "NCA analysis completed. Success rate: 50/50 subjects\n",
      "  Running onecomp replicate 4/100\n",
      "NCA analysis completed. Success rate: 50/50 subjects\n",
      "  Running onecomp replicate 5/100\n",
      "NCA analysis completed. Success rate: 50/50 subjects\n",
      "  Running onecomp replicate 6/100\n",
      "NCA analysis completed. Success rate: 50/50 subjects\n",
      "  Running onecomp replicate 7/100\n",
      "NCA analysis completed. Success rate: 50/50 subjects\n",
      "  Running onecomp replicate 8/100\n",
      "NCA analysis completed. Success rate: 50/50 subjects\n",
      "  Running onecomp replicate 9/100\n",
      "NCA analysis completed. Success rate: 50/50 subjects\n",
      "  Running onecomp replicate 10/100\n",
      "NCA analysis completed. Success rate: 50/50 subjects\n",
      "  Running onecomp replicate 11/100\n",
      "NCA analysis completed. Success rate: 50/50 subjects\n",
      "  Running onecomp replicate 12/100\n",
      "NCA analysis completed. Success rate: 50/50 subjects\n",
      "  Running onecomp replicate 13/100\n",
      "NCA analysis completed. Success rate: 50/50 subjects\n",
      "  Running onecomp replicate 14/100\n",
      "NCA analysis completed. Success rate: 50/50 subjects\n",
      "  Running onecomp replicate 15/100\n",
      "NCA analysis completed. Success rate: 50/50 subjects\n",
      "  Running onecomp replicate 16/100\n",
      "NCA analysis completed. Success rate: 50/50 subjects\n",
      "  Running onecomp replicate 17/100\n",
      "NCA analysis completed. Success rate: 50/50 subjects\n",
      "  Running onecomp replicate 18/100\n",
      "NCA analysis completed. Success rate: 50/50 subjects\n",
      "  Running onecomp replicate 19/100\n",
      "NCA analysis completed. Success rate: 50/50 subjects\n",
      "  Running onecomp replicate 20/100\n",
      "NCA analysis completed. Success rate: 50/50 subjects\n",
      "  Running onecomp replicate 21/100\n",
      "NCA analysis completed. Success rate: 50/50 subjects\n",
      "  Running onecomp replicate 22/100\n",
      "NCA analysis completed. Success rate: 50/50 subjects\n",
      "  Running onecomp replicate 23/100\n",
      "NCA analysis completed. Success rate: 50/50 subjects\n",
      "  Running onecomp replicate 24/100\n",
      "NCA analysis completed. Success rate: 50/50 subjects\n",
      "  Running onecomp replicate 25/100\n",
      "NCA analysis completed. Success rate: 50/50 subjects\n",
      "  Running onecomp replicate 26/100\n",
      "NCA analysis completed. Success rate: 50/50 subjects\n",
      "  Running onecomp replicate 27/100\n",
      "NCA analysis completed. Success rate: 50/50 subjects\n",
      "  Running onecomp replicate 28/100\n",
      "NCA analysis completed. Success rate: 50/50 subjects\n",
      "  Running onecomp replicate 29/100\n",
      "NCA analysis completed. Success rate: 50/50 subjects\n",
      "  Running onecomp replicate 30/100\n",
      "NCA analysis completed. Success rate: 50/50 subjects\n",
      "  Running onecomp replicate 31/100\n",
      "NCA analysis completed. Success rate: 50/50 subjects\n",
      "  Running onecomp replicate 32/100\n",
      "NCA analysis completed. Success rate: 50/50 subjects\n",
      "  Running onecomp replicate 33/100\n",
      "NCA analysis completed. Success rate: 50/50 subjects\n",
      "  Running onecomp replicate 34/100\n",
      "NCA analysis completed. Success rate: 50/50 subjects\n",
      "  Running onecomp replicate 35/100\n",
      "NCA analysis completed. Success rate: 50/50 subjects\n",
      "  Running onecomp replicate 36/100\n",
      "NCA analysis completed. Success rate: 50/50 subjects\n",
      "  Running onecomp replicate 37/100\n",
      "NCA analysis completed. Success rate: 50/50 subjects\n",
      "  Running onecomp replicate 38/100\n",
      "NCA analysis completed. Success rate: 50/50 subjects\n",
      "  Running onecomp replicate 39/100\n",
      "NCA analysis completed. Success rate: 50/50 subjects\n",
      "  Running onecomp replicate 40/100\n",
      "NCA analysis completed. Success rate: 50/50 subjects\n",
      "  Running onecomp replicate 41/100\n",
      "NCA analysis completed. Success rate: 50/50 subjects\n",
      "  Running onecomp replicate 42/100\n",
      "NCA analysis completed. Success rate: 50/50 subjects\n",
      "  Running onecomp replicate 43/100\n",
      "NCA analysis completed. Success rate: 50/50 subjects\n",
      "  Running onecomp replicate 44/100\n",
      "NCA analysis completed. Success rate: 50/50 subjects\n",
      "  Running onecomp replicate 45/100\n",
      "NCA analysis completed. Success rate: 50/50 subjects\n",
      "  Running onecomp replicate 46/100\n",
      "NCA analysis completed. Success rate: 50/50 subjects\n",
      "  Running onecomp replicate 47/100\n",
      "NCA analysis completed. Success rate: 50/50 subjects\n",
      "  Running onecomp replicate 48/100\n",
      "NCA analysis completed. Success rate: 50/50 subjects\n",
      "  Running onecomp replicate 49/100\n",
      "NCA analysis completed. Success rate: 50/50 subjects\n",
      "  Running onecomp replicate 50/100\n",
      "NCA analysis completed. Success rate: 50/50 subjects\n",
      "  Running onecomp replicate 51/100\n",
      "NCA analysis completed. Success rate: 50/50 subjects\n",
      "  Running onecomp replicate 52/100\n",
      "NCA analysis completed. Success rate: 50/50 subjects\n",
      "  Running onecomp replicate 53/100\n",
      "NCA analysis completed. Success rate: 50/50 subjects\n",
      "  Running onecomp replicate 54/100\n",
      "NCA analysis completed. Success rate: 50/50 subjects\n",
      "  Running onecomp replicate 55/100\n",
      "NCA analysis completed. Success rate: 50/50 subjects\n",
      "  Running onecomp replicate 56/100\n",
      "NCA analysis completed. Success rate: 50/50 subjects\n",
      "  Running onecomp replicate 57/100\n",
      "NCA analysis completed. Success rate: 50/50 subjects\n",
      "  Running onecomp replicate 58/100\n",
      "NCA analysis completed. Success rate: 50/50 subjects\n",
      "  Running onecomp replicate 59/100\n",
      "NCA analysis completed. Success rate: 50/50 subjects\n",
      "  Running onecomp replicate 60/100\n",
      "NCA analysis completed. Success rate: 50/50 subjects\n",
      "  Running onecomp replicate 61/100\n",
      "NCA analysis completed. Success rate: 50/50 subjects\n",
      "  Running onecomp replicate 62/100\n",
      "NCA analysis completed. Success rate: 50/50 subjects\n",
      "  Running onecomp replicate 63/100\n",
      "NCA analysis completed. Success rate: 50/50 subjects\n",
      "  Running onecomp replicate 64/100\n",
      "NCA analysis completed. Success rate: 50/50 subjects\n",
      "  Running onecomp replicate 65/100\n",
      "NCA analysis completed. Success rate: 50/50 subjects\n",
      "  Running onecomp replicate 66/100\n",
      "NCA analysis completed. Success rate: 50/50 subjects\n",
      "  Running onecomp replicate 67/100\n",
      "NCA analysis completed. Success rate: 50/50 subjects\n",
      "  Running onecomp replicate 68/100\n",
      "NCA analysis completed. Success rate: 50/50 subjects\n",
      "  Running onecomp replicate 69/100\n",
      "NCA analysis completed. Success rate: 50/50 subjects\n",
      "  Running onecomp replicate 70/100\n",
      "NCA analysis completed. Success rate: 50/50 subjects\n",
      "  Running onecomp replicate 71/100\n",
      "NCA analysis completed. Success rate: 50/50 subjects\n",
      "  Running onecomp replicate 72/100\n",
      "NCA analysis completed. Success rate: 50/50 subjects\n",
      "  Running onecomp replicate 73/100\n",
      "NCA analysis completed. Success rate: 50/50 subjects\n",
      "  Running onecomp replicate 74/100\n",
      "NCA analysis completed. Success rate: 50/50 subjects\n",
      "  Running onecomp replicate 75/100\n",
      "NCA analysis completed. Success rate: 50/50 subjects\n",
      "  Running onecomp replicate 76/100\n",
      "NCA analysis completed. Success rate: 50/50 subjects\n",
      "  Running onecomp replicate 77/100\n",
      "NCA analysis completed. Success rate: 50/50 subjects\n",
      "  Running onecomp replicate 78/100\n",
      "NCA analysis completed. Success rate: 50/50 subjects\n",
      "  Running onecomp replicate 79/100\n",
      "NCA analysis completed. Success rate: 50/50 subjects\n",
      "  Running onecomp replicate 80/100\n",
      "NCA analysis completed. Success rate: 50/50 subjects\n",
      "  Running onecomp replicate 81/100\n",
      "NCA analysis completed. Success rate: 50/50 subjects\n",
      "  Running onecomp replicate 82/100\n",
      "NCA analysis completed. Success rate: 50/50 subjects\n",
      "  Running onecomp replicate 83/100\n",
      "NCA analysis completed. Success rate: 50/50 subjects\n",
      "  Running onecomp replicate 84/100\n",
      "NCA analysis completed. Success rate: 50/50 subjects\n",
      "  Running onecomp replicate 85/100\n",
      "NCA analysis completed. Success rate: 50/50 subjects\n",
      "  Running onecomp replicate 86/100\n",
      "NCA analysis completed. Success rate: 50/50 subjects\n",
      "  Running onecomp replicate 87/100\n",
      "NCA analysis completed. Success rate: 50/50 subjects\n",
      "  Running onecomp replicate 88/100\n",
      "NCA analysis completed. Success rate: 50/50 subjects\n",
      "  Running onecomp replicate 89/100\n",
      "NCA analysis completed. Success rate: 50/50 subjects\n",
      "  Running onecomp replicate 90/100\n",
      "NCA analysis completed. Success rate: 50/50 subjects\n",
      "  Running onecomp replicate 91/100\n",
      "NCA analysis completed. Success rate: 50/50 subjects\n",
      "  Running onecomp replicate 92/100\n",
      "NCA analysis completed. Success rate: 50/50 subjects\n",
      "  Running onecomp replicate 93/100\n",
      "NCA analysis completed. Success rate: 50/50 subjects\n",
      "  Running onecomp replicate 94/100\n",
      "NCA analysis completed. Success rate: 50/50 subjects\n",
      "  Running onecomp replicate 95/100\n",
      "NCA analysis completed. Success rate: 50/50 subjects\n",
      "  Running onecomp replicate 96/100\n",
      "NCA analysis completed. Success rate: 50/50 subjects\n",
      "  Running onecomp replicate 97/100\n",
      "NCA analysis completed. Success rate: 50/50 subjects\n",
      "  Running onecomp replicate 98/100\n",
      "NCA analysis completed. Success rate: 50/50 subjects\n",
      "  Running onecomp replicate 99/100\n",
      "NCA analysis completed. Success rate: 50/50 subjects\n",
      "  Running onecomp replicate 100/100\n",
      "NCA analysis completed. Success rate: 50/50 subjects\n",
      "  Running onecomp replicate 1/100\n",
      "NCA analysis completed. Success rate: 100/100 subjects\n",
      "  Running onecomp replicate 2/100\n",
      "NCA analysis completed. Success rate: 100/100 subjects\n",
      "  Running onecomp replicate 3/100\n",
      "NCA analysis completed. Success rate: 100/100 subjects\n",
      "  Running onecomp replicate 4/100\n",
      "NCA analysis completed. Success rate: 100/100 subjects\n",
      "  Running onecomp replicate 5/100\n",
      "NCA analysis completed. Success rate: 100/100 subjects\n",
      "  Running onecomp replicate 6/100\n",
      "NCA analysis completed. Success rate: 100/100 subjects\n",
      "  Running onecomp replicate 7/100\n",
      "NCA analysis completed. Success rate: 100/100 subjects\n",
      "  Running onecomp replicate 8/100\n",
      "NCA analysis completed. Success rate: 100/100 subjects\n",
      "  Running onecomp replicate 9/100\n",
      "NCA analysis completed. Success rate: 100/100 subjects\n",
      "  Running onecomp replicate 10/100\n",
      "NCA analysis completed. Success rate: 100/100 subjects\n",
      "  Running onecomp replicate 11/100\n",
      "NCA analysis completed. Success rate: 100/100 subjects\n",
      "  Running onecomp replicate 12/100\n",
      "NCA analysis completed. Success rate: 100/100 subjects\n",
      "  Running onecomp replicate 13/100\n",
      "NCA analysis completed. Success rate: 100/100 subjects\n",
      "  Running onecomp replicate 14/100\n",
      "NCA analysis completed. Success rate: 100/100 subjects\n",
      "  Running onecomp replicate 15/100\n",
      "NCA analysis completed. Success rate: 100/100 subjects\n",
      "  Running onecomp replicate 16/100\n",
      "NCA analysis completed. Success rate: 100/100 subjects\n",
      "  Running onecomp replicate 17/100\n",
      "NCA analysis completed. Success rate: 100/100 subjects\n",
      "  Running onecomp replicate 18/100\n",
      "NCA analysis completed. Success rate: 100/100 subjects\n",
      "  Running onecomp replicate 19/100\n",
      "NCA analysis completed. Success rate: 100/100 subjects\n",
      "  Running onecomp replicate 20/100\n",
      "NCA analysis completed. Success rate: 100/100 subjects\n",
      "  Running onecomp replicate 21/100\n",
      "NCA analysis completed. Success rate: 100/100 subjects\n",
      "  Running onecomp replicate 22/100\n",
      "NCA analysis completed. Success rate: 100/100 subjects\n",
      "  Running onecomp replicate 23/100\n",
      "NCA analysis completed. Success rate: 100/100 subjects\n",
      "  Running onecomp replicate 24/100\n",
      "NCA analysis completed. Success rate: 100/100 subjects\n",
      "  Running onecomp replicate 25/100\n",
      "NCA analysis completed. Success rate: 100/100 subjects\n",
      "  Running onecomp replicate 26/100\n",
      "NCA analysis completed. Success rate: 100/100 subjects\n",
      "  Running onecomp replicate 27/100\n",
      "NCA analysis completed. Success rate: 100/100 subjects\n",
      "  Running onecomp replicate 28/100\n",
      "NCA analysis completed. Success rate: 100/100 subjects\n",
      "  Running onecomp replicate 29/100\n",
      "NCA analysis completed. Success rate: 100/100 subjects\n",
      "  Running onecomp replicate 30/100\n",
      "NCA analysis completed. Success rate: 100/100 subjects\n",
      "  Running onecomp replicate 31/100\n",
      "NCA analysis completed. Success rate: 100/100 subjects\n",
      "  Running onecomp replicate 32/100\n",
      "NCA analysis completed. Success rate: 100/100 subjects\n",
      "  Running onecomp replicate 33/100\n",
      "NCA analysis completed. Success rate: 100/100 subjects\n",
      "  Running onecomp replicate 34/100\n",
      "NCA analysis completed. Success rate: 100/100 subjects\n",
      "  Running onecomp replicate 35/100\n",
      "NCA analysis completed. Success rate: 100/100 subjects\n",
      "  Running onecomp replicate 36/100\n",
      "NCA analysis completed. Success rate: 100/100 subjects\n",
      "  Running onecomp replicate 37/100\n",
      "NCA analysis completed. Success rate: 100/100 subjects\n",
      "  Running onecomp replicate 38/100\n",
      "NCA analysis completed. Success rate: 100/100 subjects\n",
      "  Running onecomp replicate 39/100\n",
      "NCA analysis completed. Success rate: 100/100 subjects\n",
      "  Running onecomp replicate 40/100\n",
      "NCA analysis completed. Success rate: 100/100 subjects\n",
      "  Running onecomp replicate 41/100\n",
      "NCA analysis completed. Success rate: 100/100 subjects\n",
      "  Running onecomp replicate 42/100\n",
      "NCA analysis completed. Success rate: 100/100 subjects\n",
      "  Running onecomp replicate 43/100\n",
      "NCA analysis completed. Success rate: 100/100 subjects\n",
      "  Running onecomp replicate 44/100\n",
      "NCA analysis completed. Success rate: 100/100 subjects\n",
      "  Running onecomp replicate 45/100\n",
      "NCA analysis completed. Success rate: 100/100 subjects\n",
      "  Running onecomp replicate 46/100\n",
      "NCA analysis completed. Success rate: 100/100 subjects\n",
      "  Running onecomp replicate 47/100\n",
      "NCA analysis completed. Success rate: 100/100 subjects\n",
      "  Running onecomp replicate 48/100\n",
      "NCA analysis completed. Success rate: 100/100 subjects\n",
      "  Running onecomp replicate 49/100\n",
      "NCA analysis completed. Success rate: 100/100 subjects\n",
      "  Running onecomp replicate 50/100\n",
      "NCA analysis completed. Success rate: 100/100 subjects\n",
      "  Running onecomp replicate 51/100\n",
      "NCA analysis completed. Success rate: 100/100 subjects\n",
      "  Running onecomp replicate 52/100\n",
      "NCA analysis completed. Success rate: 100/100 subjects\n",
      "  Running onecomp replicate 53/100\n",
      "NCA analysis completed. Success rate: 100/100 subjects\n",
      "  Running onecomp replicate 54/100\n",
      "NCA analysis completed. Success rate: 100/100 subjects\n",
      "  Running onecomp replicate 55/100\n",
      "NCA analysis completed. Success rate: 100/100 subjects\n",
      "  Running onecomp replicate 56/100\n",
      "NCA analysis completed. Success rate: 100/100 subjects\n",
      "  Running onecomp replicate 57/100\n",
      "NCA analysis completed. Success rate: 100/100 subjects\n",
      "  Running onecomp replicate 58/100\n",
      "NCA analysis completed. Success rate: 100/100 subjects\n",
      "  Running onecomp replicate 59/100\n",
      "NCA analysis completed. Success rate: 100/100 subjects\n",
      "  Running onecomp replicate 60/100\n",
      "NCA analysis completed. Success rate: 100/100 subjects\n",
      "  Running onecomp replicate 61/100\n",
      "NCA analysis completed. Success rate: 100/100 subjects\n",
      "  Running onecomp replicate 62/100\n",
      "NCA analysis completed. Success rate: 100/100 subjects\n",
      "  Running onecomp replicate 63/100\n",
      "NCA analysis completed. Success rate: 100/100 subjects\n",
      "  Running onecomp replicate 64/100\n",
      "NCA analysis completed. Success rate: 100/100 subjects\n",
      "  Running onecomp replicate 65/100\n",
      "NCA analysis completed. Success rate: 100/100 subjects\n",
      "  Running onecomp replicate 66/100\n",
      "NCA analysis completed. Success rate: 100/100 subjects\n",
      "  Running onecomp replicate 67/100\n",
      "NCA analysis completed. Success rate: 100/100 subjects\n",
      "  Running onecomp replicate 68/100\n",
      "NCA analysis completed. Success rate: 100/100 subjects\n",
      "  Running onecomp replicate 69/100\n",
      "NCA analysis completed. Success rate: 100/100 subjects\n",
      "  Running onecomp replicate 70/100\n",
      "NCA analysis completed. Success rate: 100/100 subjects\n",
      "  Running onecomp replicate 71/100\n",
      "NCA analysis completed. Success rate: 100/100 subjects\n",
      "  Running onecomp replicate 72/100\n",
      "NCA analysis completed. Success rate: 100/100 subjects\n",
      "  Running onecomp replicate 73/100\n",
      "NCA analysis completed. Success rate: 100/100 subjects\n",
      "  Running onecomp replicate 74/100\n",
      "NCA analysis completed. Success rate: 100/100 subjects\n",
      "  Running onecomp replicate 75/100\n",
      "NCA analysis completed. Success rate: 100/100 subjects\n",
      "  Running onecomp replicate 76/100\n",
      "NCA analysis completed. Success rate: 100/100 subjects\n",
      "  Running onecomp replicate 77/100\n",
      "NCA analysis completed. Success rate: 100/100 subjects\n",
      "  Running onecomp replicate 78/100\n",
      "NCA analysis completed. Success rate: 100/100 subjects\n",
      "  Running onecomp replicate 79/100\n",
      "NCA analysis completed. Success rate: 100/100 subjects\n",
      "  Running onecomp replicate 80/100\n",
      "NCA analysis completed. Success rate: 100/100 subjects\n",
      "  Running onecomp replicate 81/100\n",
      "NCA analysis completed. Success rate: 100/100 subjects\n",
      "  Running onecomp replicate 82/100\n",
      "NCA analysis completed. Success rate: 100/100 subjects\n",
      "  Running onecomp replicate 83/100\n",
      "NCA analysis completed. Success rate: 100/100 subjects\n",
      "  Running onecomp replicate 84/100\n",
      "NCA analysis completed. Success rate: 100/100 subjects\n",
      "  Running onecomp replicate 85/100\n",
      "NCA analysis completed. Success rate: 100/100 subjects\n",
      "  Running onecomp replicate 86/100\n",
      "NCA analysis completed. Success rate: 100/100 subjects\n",
      "  Running onecomp replicate 87/100\n",
      "NCA analysis completed. Success rate: 100/100 subjects\n",
      "  Running onecomp replicate 88/100\n",
      "NCA analysis completed. Success rate: 100/100 subjects\n",
      "  Running onecomp replicate 89/100\n",
      "NCA analysis completed. Success rate: 100/100 subjects\n"
     ]
    },
    {
     "name": "stderr",
     "output_type": "stream",
     "text": [
      "/Users/hskong/AI/PKPy/pkpy/pkpy/covariate_analysis.py:53: RuntimeWarning: overflow encountered in power\n",
      "  return theta * (safe_cov / safe_center) ** relationship.coefficient\n",
      "/Users/hskong/anaconda3/lib/python3.11/site-packages/numpy/core/_methods.py:236: RuntimeWarning: invalid value encountered in subtract\n",
      "  x = asanyarray(arr - arrmean)\n"
     ]
    },
    {
     "name": "stdout",
     "output_type": "stream",
     "text": [
      "  Running onecomp replicate 90/100\n",
      "NCA analysis completed. Success rate: 100/100 subjects\n",
      "  Running onecomp replicate 91/100\n",
      "NCA analysis completed. Success rate: 100/100 subjects\n",
      "  Running onecomp replicate 92/100\n",
      "NCA analysis completed. Success rate: 100/100 subjects\n",
      "  Running onecomp replicate 93/100\n",
      "NCA analysis completed. Success rate: 100/100 subjects\n",
      "  Running onecomp replicate 94/100\n",
      "NCA analysis completed. Success rate: 100/100 subjects\n",
      "  Running onecomp replicate 95/100\n",
      "NCA analysis completed. Success rate: 100/100 subjects\n",
      "  Running onecomp replicate 96/100\n",
      "NCA analysis completed. Success rate: 100/100 subjects\n",
      "  Running onecomp replicate 97/100\n",
      "NCA analysis completed. Success rate: 100/100 subjects\n",
      "  Running onecomp replicate 98/100\n",
      "NCA analysis completed. Success rate: 100/100 subjects\n",
      "  Running onecomp replicate 99/100\n",
      "NCA analysis completed. Success rate: 100/100 subjects\n",
      "  Running onecomp replicate 100/100\n",
      "NCA analysis completed. Success rate: 100/100 subjects\n",
      "  Running onecomp_abs replicate 1/100\n",
      "NCA analysis completed. Success rate: 20/20 subjects\n",
      "  Running onecomp_abs replicate 2/100\n",
      "NCA analysis completed. Success rate: 20/20 subjects\n",
      "  Running onecomp_abs replicate 3/100\n",
      "NCA analysis completed. Success rate: 20/20 subjects\n",
      "  Running onecomp_abs replicate 4/100\n",
      "NCA analysis completed. Success rate: 20/20 subjects\n",
      "  Running onecomp_abs replicate 5/100\n",
      "NCA analysis completed. Success rate: 20/20 subjects\n",
      "  Running onecomp_abs replicate 6/100\n",
      "NCA analysis completed. Success rate: 20/20 subjects\n",
      "  Running onecomp_abs replicate 7/100\n",
      "NCA analysis completed. Success rate: 20/20 subjects\n",
      "  Running onecomp_abs replicate 8/100\n",
      "NCA analysis completed. Success rate: 20/20 subjects\n",
      "  Running onecomp_abs replicate 9/100\n",
      "NCA analysis completed. Success rate: 20/20 subjects\n",
      "  Running onecomp_abs replicate 10/100\n",
      "NCA analysis completed. Success rate: 20/20 subjects\n",
      "  Running onecomp_abs replicate 11/100\n",
      "NCA analysis completed. Success rate: 20/20 subjects\n",
      "  Running onecomp_abs replicate 12/100\n",
      "NCA analysis completed. Success rate: 20/20 subjects\n",
      "  Running onecomp_abs replicate 13/100\n",
      "NCA analysis completed. Success rate: 20/20 subjects\n",
      "  Running onecomp_abs replicate 14/100\n",
      "NCA analysis completed. Success rate: 20/20 subjects\n",
      "  Running onecomp_abs replicate 15/100\n",
      "NCA analysis completed. Success rate: 20/20 subjects\n",
      "  Running onecomp_abs replicate 16/100\n",
      "NCA analysis completed. Success rate: 20/20 subjects\n"
     ]
    },
    {
     "name": "stderr",
     "output_type": "stream",
     "text": [
      "/Users/hskong/AI/PKPy/pkpy/pkpy/covariate_analysis.py:129: UserWarning: Optimization failed for Ka-CRCL\n",
      "  warnings.warn(f\"Optimization failed for {relationship.parameter}-{relationship.covariate}\")\n"
     ]
    },
    {
     "name": "stdout",
     "output_type": "stream",
     "text": [
      "  Running onecomp_abs replicate 17/100\n",
      "NCA analysis completed. Success rate: 20/20 subjects\n",
      "  Running onecomp_abs replicate 18/100\n",
      "NCA analysis completed. Success rate: 20/20 subjects\n",
      "  Running onecomp_abs replicate 19/100\n",
      "NCA analysis completed. Success rate: 20/20 subjects\n",
      "  Running onecomp_abs replicate 20/100\n",
      "NCA analysis completed. Success rate: 20/20 subjects\n",
      "  Running onecomp_abs replicate 21/100\n",
      "NCA analysis completed. Success rate: 20/20 subjects\n",
      "  Running onecomp_abs replicate 22/100\n",
      "NCA analysis completed. Success rate: 20/20 subjects\n",
      "  Running onecomp_abs replicate 23/100\n",
      "NCA analysis completed. Success rate: 20/20 subjects\n",
      "  Running onecomp_abs replicate 24/100\n",
      "NCA analysis completed. Success rate: 20/20 subjects\n",
      "  Running onecomp_abs replicate 25/100\n",
      "NCA analysis completed. Success rate: 20/20 subjects\n",
      "  Running onecomp_abs replicate 26/100\n",
      "NCA analysis completed. Success rate: 20/20 subjects\n",
      "  Running onecomp_abs replicate 27/100\n",
      "NCA analysis completed. Success rate: 20/20 subjects\n",
      "  Running onecomp_abs replicate 28/100\n",
      "NCA analysis completed. Success rate: 20/20 subjects\n",
      "  Running onecomp_abs replicate 29/100\n",
      "NCA analysis completed. Success rate: 20/20 subjects\n",
      "  Running onecomp_abs replicate 30/100\n",
      "NCA analysis completed. Success rate: 20/20 subjects\n",
      "  Running onecomp_abs replicate 31/100\n",
      "NCA analysis completed. Success rate: 20/20 subjects\n",
      "  Running onecomp_abs replicate 32/100\n",
      "NCA analysis completed. Success rate: 20/20 subjects\n",
      "  Running onecomp_abs replicate 33/100\n",
      "NCA analysis completed. Success rate: 20/20 subjects\n",
      "  Running onecomp_abs replicate 34/100\n",
      "NCA analysis completed. Success rate: 20/20 subjects\n"
     ]
    },
    {
     "name": "stderr",
     "output_type": "stream",
     "text": [
      "/Users/hskong/AI/PKPy/pkpy/pkpy/covariate_analysis.py:129: UserWarning: Optimization failed for Ka-AGE\n",
      "  warnings.warn(f\"Optimization failed for {relationship.parameter}-{relationship.covariate}\")\n"
     ]
    },
    {
     "name": "stdout",
     "output_type": "stream",
     "text": [
      "  Running onecomp_abs replicate 35/100\n",
      "NCA analysis completed. Success rate: 20/20 subjects\n",
      "  Running onecomp_abs replicate 36/100\n",
      "NCA analysis completed. Success rate: 20/20 subjects\n"
     ]
    },
    {
     "name": "stderr",
     "output_type": "stream",
     "text": [
      "/Users/hskong/AI/PKPy/pkpy/pkpy/covariate_analysis.py:129: UserWarning: Optimization failed for Ka-AGE\n",
      "  warnings.warn(f\"Optimization failed for {relationship.parameter}-{relationship.covariate}\")\n"
     ]
    },
    {
     "name": "stdout",
     "output_type": "stream",
     "text": [
      "  Running onecomp_abs replicate 37/100\n",
      "NCA analysis completed. Success rate: 20/20 subjects\n",
      "  Running onecomp_abs replicate 38/100\n",
      "NCA analysis completed. Success rate: 20/20 subjects\n",
      "  Running onecomp_abs replicate 39/100\n",
      "NCA analysis completed. Success rate: 20/20 subjects\n",
      "  Running onecomp_abs replicate 40/100\n",
      "NCA analysis completed. Success rate: 20/20 subjects\n",
      "  Running onecomp_abs replicate 41/100\n",
      "NCA analysis completed. Success rate: 20/20 subjects\n"
     ]
    },
    {
     "name": "stderr",
     "output_type": "stream",
     "text": [
      "/Users/hskong/AI/PKPy/pkpy/pkpy/covariate_analysis.py:129: UserWarning: Optimization failed for Ka-AGE\n",
      "  warnings.warn(f\"Optimization failed for {relationship.parameter}-{relationship.covariate}\")\n"
     ]
    },
    {
     "name": "stdout",
     "output_type": "stream",
     "text": [
      "  Running onecomp_abs replicate 42/100\n",
      "NCA analysis completed. Success rate: 20/20 subjects\n",
      "  Running onecomp_abs replicate 43/100\n",
      "NCA analysis completed. Success rate: 20/20 subjects\n",
      "  Running onecomp_abs replicate 44/100\n",
      "NCA analysis completed. Success rate: 20/20 subjects\n",
      "  Running onecomp_abs replicate 45/100\n",
      "NCA analysis completed. Success rate: 20/20 subjects\n",
      "  Running onecomp_abs replicate 46/100\n",
      "NCA analysis completed. Success rate: 20/20 subjects\n",
      "  Running onecomp_abs replicate 47/100\n",
      "NCA analysis completed. Success rate: 20/20 subjects\n",
      "  Running onecomp_abs replicate 48/100\n",
      "NCA analysis completed. Success rate: 20/20 subjects\n",
      "  Running onecomp_abs replicate 49/100\n",
      "NCA analysis completed. Success rate: 20/20 subjects\n",
      "  Running onecomp_abs replicate 50/100\n",
      "NCA analysis completed. Success rate: 20/20 subjects\n",
      "  Running onecomp_abs replicate 51/100\n",
      "NCA analysis completed. Success rate: 20/20 subjects\n",
      "  Running onecomp_abs replicate 52/100\n",
      "NCA analysis completed. Success rate: 20/20 subjects\n",
      "  Running onecomp_abs replicate 53/100\n",
      "NCA analysis completed. Success rate: 20/20 subjects\n",
      "  Running onecomp_abs replicate 54/100\n",
      "NCA analysis completed. Success rate: 20/20 subjects\n",
      "  Running onecomp_abs replicate 55/100\n",
      "NCA analysis completed. Success rate: 20/20 subjects\n",
      "  Running onecomp_abs replicate 56/100\n",
      "NCA analysis completed. Success rate: 20/20 subjects\n",
      "  Running onecomp_abs replicate 57/100\n",
      "NCA analysis completed. Success rate: 20/20 subjects\n"
     ]
    },
    {
     "name": "stderr",
     "output_type": "stream",
     "text": [
      "/Users/hskong/AI/PKPy/pkpy/pkpy/covariate_analysis.py:129: UserWarning: Optimization failed for Ka-CRCL\n",
      "  warnings.warn(f\"Optimization failed for {relationship.parameter}-{relationship.covariate}\")\n"
     ]
    },
    {
     "name": "stdout",
     "output_type": "stream",
     "text": [
      "  Running onecomp_abs replicate 58/100\n",
      "NCA analysis completed. Success rate: 20/20 subjects\n",
      "  Running onecomp_abs replicate 59/100\n",
      "NCA analysis completed. Success rate: 20/20 subjects\n",
      "  Running onecomp_abs replicate 60/100\n",
      "NCA analysis completed. Success rate: 20/20 subjects\n",
      "  Running onecomp_abs replicate 61/100\n",
      "NCA analysis completed. Success rate: 20/20 subjects\n",
      "  Running onecomp_abs replicate 62/100\n",
      "NCA analysis completed. Success rate: 20/20 subjects\n",
      "  Running onecomp_abs replicate 63/100\n",
      "NCA analysis completed. Success rate: 20/20 subjects\n"
     ]
    },
    {
     "name": "stderr",
     "output_type": "stream",
     "text": [
      "/Users/hskong/AI/PKPy/pkpy/pkpy/covariate_analysis.py:129: UserWarning: Optimization failed for Ka-AGE\n",
      "  warnings.warn(f\"Optimization failed for {relationship.parameter}-{relationship.covariate}\")\n"
     ]
    },
    {
     "name": "stdout",
     "output_type": "stream",
     "text": [
      "  Running onecomp_abs replicate 64/100\n",
      "NCA analysis completed. Success rate: 20/20 subjects\n",
      "  Running onecomp_abs replicate 65/100\n",
      "NCA analysis completed. Success rate: 20/20 subjects\n",
      "  Running onecomp_abs replicate 66/100\n",
      "NCA analysis completed. Success rate: 20/20 subjects\n",
      "  Running onecomp_abs replicate 67/100\n",
      "NCA analysis completed. Success rate: 20/20 subjects\n",
      "  Running onecomp_abs replicate 68/100\n",
      "NCA analysis completed. Success rate: 20/20 subjects\n",
      "  Running onecomp_abs replicate 69/100\n",
      "NCA analysis completed. Success rate: 20/20 subjects\n",
      "  Running onecomp_abs replicate 70/100\n",
      "NCA analysis completed. Success rate: 20/20 subjects\n",
      "  Running onecomp_abs replicate 71/100\n",
      "NCA analysis completed. Success rate: 20/20 subjects\n",
      "  Running onecomp_abs replicate 72/100\n",
      "NCA analysis completed. Success rate: 20/20 subjects\n",
      "  Running onecomp_abs replicate 73/100\n",
      "NCA analysis completed. Success rate: 20/20 subjects\n",
      "  Running onecomp_abs replicate 74/100\n",
      "NCA analysis completed. Success rate: 20/20 subjects\n",
      "  Running onecomp_abs replicate 75/100\n",
      "NCA analysis completed. Success rate: 20/20 subjects\n",
      "  Running onecomp_abs replicate 76/100\n",
      "NCA analysis completed. Success rate: 20/20 subjects\n",
      "  Running onecomp_abs replicate 77/100\n",
      "NCA analysis completed. Success rate: 20/20 subjects\n"
     ]
    },
    {
     "name": "stderr",
     "output_type": "stream",
     "text": [
      "/Users/hskong/AI/PKPy/pkpy/pkpy/covariate_analysis.py:129: UserWarning: Optimization failed for Ka-WT\n",
      "  warnings.warn(f\"Optimization failed for {relationship.parameter}-{relationship.covariate}\")\n"
     ]
    },
    {
     "name": "stdout",
     "output_type": "stream",
     "text": [
      "  Running onecomp_abs replicate 78/100\n",
      "NCA analysis completed. Success rate: 20/20 subjects\n",
      "  Running onecomp_abs replicate 79/100\n",
      "NCA analysis completed. Success rate: 20/20 subjects\n",
      "  Running onecomp_abs replicate 80/100\n",
      "NCA analysis completed. Success rate: 20/20 subjects\n",
      "  Running onecomp_abs replicate 81/100\n",
      "NCA analysis completed. Success rate: 20/20 subjects\n",
      "  Running onecomp_abs replicate 82/100\n",
      "NCA analysis completed. Success rate: 20/20 subjects\n",
      "  Running onecomp_abs replicate 83/100\n",
      "NCA analysis completed. Success rate: 20/20 subjects\n",
      "  Running onecomp_abs replicate 84/100\n",
      "NCA analysis completed. Success rate: 20/20 subjects\n",
      "  Running onecomp_abs replicate 85/100\n",
      "NCA analysis completed. Success rate: 20/20 subjects\n",
      "  Running onecomp_abs replicate 86/100\n",
      "NCA analysis completed. Success rate: 20/20 subjects\n",
      "  Running onecomp_abs replicate 87/100\n",
      "NCA analysis completed. Success rate: 20/20 subjects\n",
      "  Running onecomp_abs replicate 88/100\n",
      "NCA analysis completed. Success rate: 20/20 subjects\n",
      "  Running onecomp_abs replicate 89/100\n",
      "NCA analysis completed. Success rate: 20/20 subjects\n",
      "  Running onecomp_abs replicate 90/100\n",
      "NCA analysis completed. Success rate: 20/20 subjects\n",
      "  Running onecomp_abs replicate 91/100\n",
      "NCA analysis completed. Success rate: 20/20 subjects\n",
      "  Running onecomp_abs replicate 92/100\n",
      "NCA analysis completed. Success rate: 20/20 subjects\n",
      "  Running onecomp_abs replicate 93/100\n",
      "NCA analysis completed. Success rate: 20/20 subjects\n",
      "  Running onecomp_abs replicate 94/100\n",
      "NCA analysis completed. Success rate: 20/20 subjects\n",
      "  Running onecomp_abs replicate 95/100\n",
      "NCA analysis completed. Success rate: 20/20 subjects\n",
      "  Running onecomp_abs replicate 96/100\n",
      "NCA analysis completed. Success rate: 20/20 subjects\n",
      "  Running onecomp_abs replicate 97/100\n",
      "NCA analysis completed. Success rate: 20/20 subjects\n",
      "  Running onecomp_abs replicate 98/100\n",
      "NCA analysis completed. Success rate: 20/20 subjects\n",
      "  Running onecomp_abs replicate 99/100\n",
      "NCA analysis completed. Success rate: 20/20 subjects\n",
      "  Running onecomp_abs replicate 100/100\n",
      "NCA analysis completed. Success rate: 20/20 subjects\n",
      "  Running onecomp_abs replicate 1/100\n",
      "NCA analysis completed. Success rate: 50/50 subjects\n"
     ]
    },
    {
     "name": "stderr",
     "output_type": "stream",
     "text": [
      "/Users/hskong/AI/PKPy/pkpy/pkpy/covariate_analysis.py:129: UserWarning: Optimization failed for Ka-CRCL\n",
      "  warnings.warn(f\"Optimization failed for {relationship.parameter}-{relationship.covariate}\")\n"
     ]
    },
    {
     "name": "stdout",
     "output_type": "stream",
     "text": [
      "  Running onecomp_abs replicate 2/100\n",
      "NCA analysis completed. Success rate: 50/50 subjects\n"
     ]
    },
    {
     "name": "stderr",
     "output_type": "stream",
     "text": [
      "/Users/hskong/AI/PKPy/pkpy/pkpy/covariate_analysis.py:129: UserWarning: Optimization failed for Ka-AGE\n",
      "  warnings.warn(f\"Optimization failed for {relationship.parameter}-{relationship.covariate}\")\n"
     ]
    },
    {
     "name": "stdout",
     "output_type": "stream",
     "text": [
      "  Running onecomp_abs replicate 3/100\n",
      "NCA analysis completed. Success rate: 50/50 subjects\n",
      "  Running onecomp_abs replicate 4/100\n",
      "NCA analysis completed. Success rate: 50/50 subjects\n",
      "  Running onecomp_abs replicate 5/100\n",
      "NCA analysis completed. Success rate: 50/50 subjects\n",
      "  Running onecomp_abs replicate 6/100\n",
      "NCA analysis completed. Success rate: 50/50 subjects\n",
      "  Running onecomp_abs replicate 7/100\n",
      "NCA analysis completed. Success rate: 50/50 subjects\n",
      "  Running onecomp_abs replicate 8/100\n",
      "NCA analysis completed. Success rate: 50/50 subjects\n",
      "  Running onecomp_abs replicate 9/100\n",
      "NCA analysis completed. Success rate: 50/50 subjects\n",
      "  Running onecomp_abs replicate 10/100\n",
      "NCA analysis completed. Success rate: 50/50 subjects\n",
      "  Running onecomp_abs replicate 11/100\n",
      "NCA analysis completed. Success rate: 50/50 subjects\n"
     ]
    },
    {
     "name": "stderr",
     "output_type": "stream",
     "text": [
      "/Users/hskong/AI/PKPy/pkpy/pkpy/covariate_analysis.py:129: UserWarning: Optimization failed for Ka-AGE\n",
      "  warnings.warn(f\"Optimization failed for {relationship.parameter}-{relationship.covariate}\")\n"
     ]
    },
    {
     "name": "stdout",
     "output_type": "stream",
     "text": [
      "  Running onecomp_abs replicate 12/100\n",
      "NCA analysis completed. Success rate: 50/50 subjects\n",
      "  Running onecomp_abs replicate 13/100\n",
      "NCA analysis completed. Success rate: 50/50 subjects\n",
      "  Running onecomp_abs replicate 14/100\n",
      "NCA analysis completed. Success rate: 50/50 subjects\n",
      "  Running onecomp_abs replicate 15/100\n",
      "NCA analysis completed. Success rate: 50/50 subjects\n",
      "  Running onecomp_abs replicate 16/100\n",
      "NCA analysis completed. Success rate: 50/50 subjects\n",
      "  Running onecomp_abs replicate 17/100\n",
      "NCA analysis completed. Success rate: 50/50 subjects\n",
      "  Running onecomp_abs replicate 18/100\n",
      "NCA analysis completed. Success rate: 50/50 subjects\n",
      "  Running onecomp_abs replicate 19/100\n",
      "NCA analysis completed. Success rate: 50/50 subjects\n",
      "  Running onecomp_abs replicate 20/100\n",
      "NCA analysis completed. Success rate: 50/50 subjects\n",
      "  Running onecomp_abs replicate 21/100\n",
      "NCA analysis completed. Success rate: 50/50 subjects\n",
      "  Running onecomp_abs replicate 22/100\n",
      "NCA analysis completed. Success rate: 50/50 subjects\n",
      "  Running onecomp_abs replicate 23/100\n",
      "NCA analysis completed. Success rate: 50/50 subjects\n",
      "  Running onecomp_abs replicate 24/100\n",
      "NCA analysis completed. Success rate: 50/50 subjects\n",
      "  Running onecomp_abs replicate 25/100\n",
      "NCA analysis completed. Success rate: 50/50 subjects\n",
      "  Running onecomp_abs replicate 26/100\n",
      "NCA analysis completed. Success rate: 50/50 subjects\n",
      "  Running onecomp_abs replicate 27/100\n",
      "NCA analysis completed. Success rate: 50/50 subjects\n",
      "  Running onecomp_abs replicate 28/100\n",
      "NCA analysis completed. Success rate: 50/50 subjects\n",
      "  Running onecomp_abs replicate 29/100\n",
      "NCA analysis completed. Success rate: 50/50 subjects\n",
      "  Running onecomp_abs replicate 30/100\n",
      "NCA analysis completed. Success rate: 50/50 subjects\n",
      "  Running onecomp_abs replicate 31/100\n",
      "NCA analysis completed. Success rate: 50/50 subjects\n",
      "  Running onecomp_abs replicate 32/100\n",
      "NCA analysis completed. Success rate: 50/50 subjects\n",
      "  Running onecomp_abs replicate 33/100\n",
      "NCA analysis completed. Success rate: 50/50 subjects\n",
      "  Running onecomp_abs replicate 34/100\n",
      "NCA analysis completed. Success rate: 50/50 subjects\n",
      "  Running onecomp_abs replicate 35/100\n",
      "NCA analysis completed. Success rate: 50/50 subjects\n",
      "  Running onecomp_abs replicate 36/100\n",
      "NCA analysis completed. Success rate: 50/50 subjects\n",
      "  Running onecomp_abs replicate 37/100\n",
      "NCA analysis completed. Success rate: 50/50 subjects\n"
     ]
    },
    {
     "name": "stderr",
     "output_type": "stream",
     "text": [
      "/Users/hskong/AI/PKPy/pkpy/pkpy/covariate_analysis.py:129: UserWarning: Optimization failed for CL-AGE\n",
      "  warnings.warn(f\"Optimization failed for {relationship.parameter}-{relationship.covariate}\")\n",
      "/Users/hskong/AI/PKPy/pkpy/pkpy/covariate_analysis.py:129: UserWarning: Optimization failed for V-AGE\n",
      "  warnings.warn(f\"Optimization failed for {relationship.parameter}-{relationship.covariate}\")\n"
     ]
    },
    {
     "name": "stdout",
     "output_type": "stream",
     "text": [
      "  Running onecomp_abs replicate 38/100\n",
      "NCA analysis completed. Success rate: 50/50 subjects\n",
      "  Running onecomp_abs replicate 39/100\n",
      "NCA analysis completed. Success rate: 50/50 subjects\n",
      "  Running onecomp_abs replicate 40/100\n",
      "NCA analysis completed. Success rate: 50/50 subjects\n",
      "  Running onecomp_abs replicate 41/100\n",
      "NCA analysis completed. Success rate: 50/50 subjects\n",
      "  Running onecomp_abs replicate 42/100\n",
      "NCA analysis completed. Success rate: 50/50 subjects\n",
      "  Running onecomp_abs replicate 43/100\n",
      "NCA analysis completed. Success rate: 50/50 subjects\n",
      "  Running onecomp_abs replicate 44/100\n",
      "NCA analysis completed. Success rate: 50/50 subjects\n"
     ]
    },
    {
     "name": "stderr",
     "output_type": "stream",
     "text": [
      "/Users/hskong/AI/PKPy/pkpy/pkpy/covariate_analysis.py:129: UserWarning: Optimization failed for Ka-AGE\n",
      "  warnings.warn(f\"Optimization failed for {relationship.parameter}-{relationship.covariate}\")\n"
     ]
    },
    {
     "name": "stdout",
     "output_type": "stream",
     "text": [
      "  Running onecomp_abs replicate 45/100\n",
      "NCA analysis completed. Success rate: 50/50 subjects\n",
      "  Running onecomp_abs replicate 46/100\n",
      "NCA analysis completed. Success rate: 50/50 subjects\n",
      "  Running onecomp_abs replicate 47/100\n",
      "NCA analysis completed. Success rate: 50/50 subjects\n",
      "  Running onecomp_abs replicate 48/100\n",
      "NCA analysis completed. Success rate: 50/50 subjects\n",
      "  Running onecomp_abs replicate 49/100\n",
      "NCA analysis completed. Success rate: 50/50 subjects\n",
      "  Running onecomp_abs replicate 50/100\n",
      "NCA analysis completed. Success rate: 50/50 subjects\n"
     ]
    },
    {
     "name": "stderr",
     "output_type": "stream",
     "text": [
      "/Users/hskong/AI/PKPy/pkpy/pkpy/covariate_analysis.py:129: UserWarning: Optimization failed for Ka-AGE\n",
      "  warnings.warn(f\"Optimization failed for {relationship.parameter}-{relationship.covariate}\")\n"
     ]
    },
    {
     "name": "stdout",
     "output_type": "stream",
     "text": [
      "  Running onecomp_abs replicate 51/100\n",
      "NCA analysis completed. Success rate: 50/50 subjects\n"
     ]
    },
    {
     "name": "stderr",
     "output_type": "stream",
     "text": [
      "/Users/hskong/AI/PKPy/pkpy/pkpy/covariate_analysis.py:129: UserWarning: Optimization failed for Ka-AGE\n",
      "  warnings.warn(f\"Optimization failed for {relationship.parameter}-{relationship.covariate}\")\n"
     ]
    },
    {
     "name": "stdout",
     "output_type": "stream",
     "text": [
      "  Running onecomp_abs replicate 52/100\n",
      "NCA analysis completed. Success rate: 50/50 subjects\n",
      "  Running onecomp_abs replicate 53/100\n",
      "NCA analysis completed. Success rate: 50/50 subjects\n",
      "  Running onecomp_abs replicate 54/100\n",
      "NCA analysis completed. Success rate: 50/50 subjects\n",
      "  Running onecomp_abs replicate 55/100\n",
      "NCA analysis completed. Success rate: 50/50 subjects\n",
      "  Running onecomp_abs replicate 56/100\n",
      "NCA analysis completed. Success rate: 50/50 subjects\n",
      "  Running onecomp_abs replicate 57/100\n",
      "NCA analysis completed. Success rate: 50/50 subjects\n"
     ]
    },
    {
     "name": "stderr",
     "output_type": "stream",
     "text": [
      "/Users/hskong/AI/PKPy/pkpy/pkpy/covariate_analysis.py:129: UserWarning: Optimization failed for Ka-AGE\n",
      "  warnings.warn(f\"Optimization failed for {relationship.parameter}-{relationship.covariate}\")\n"
     ]
    },
    {
     "name": "stdout",
     "output_type": "stream",
     "text": [
      "  Running onecomp_abs replicate 58/100\n",
      "NCA analysis completed. Success rate: 50/50 subjects\n"
     ]
    },
    {
     "name": "stderr",
     "output_type": "stream",
     "text": [
      "/Users/hskong/AI/PKPy/pkpy/pkpy/covariate_analysis.py:129: UserWarning: Optimization failed for Ka-AGE\n",
      "  warnings.warn(f\"Optimization failed for {relationship.parameter}-{relationship.covariate}\")\n"
     ]
    },
    {
     "name": "stdout",
     "output_type": "stream",
     "text": [
      "  Running onecomp_abs replicate 59/100\n",
      "NCA analysis completed. Success rate: 50/50 subjects\n"
     ]
    },
    {
     "name": "stderr",
     "output_type": "stream",
     "text": [
      "/Users/hskong/AI/PKPy/pkpy/pkpy/covariate_analysis.py:129: UserWarning: Optimization failed for Ka-AGE\n",
      "  warnings.warn(f\"Optimization failed for {relationship.parameter}-{relationship.covariate}\")\n"
     ]
    },
    {
     "name": "stdout",
     "output_type": "stream",
     "text": [
      "  Running onecomp_abs replicate 60/100\n",
      "NCA analysis completed. Success rate: 50/50 subjects\n",
      "  Running onecomp_abs replicate 61/100\n",
      "NCA analysis completed. Success rate: 50/50 subjects\n",
      "  Running onecomp_abs replicate 62/100\n",
      "NCA analysis completed. Success rate: 50/50 subjects\n",
      "  Running onecomp_abs replicate 63/100\n",
      "NCA analysis completed. Success rate: 50/50 subjects\n",
      "  Running onecomp_abs replicate 64/100\n",
      "NCA analysis completed. Success rate: 50/50 subjects\n",
      "  Running onecomp_abs replicate 65/100\n",
      "NCA analysis completed. Success rate: 50/50 subjects\n"
     ]
    },
    {
     "name": "stderr",
     "output_type": "stream",
     "text": [
      "/Users/hskong/AI/PKPy/pkpy/pkpy/covariate_analysis.py:129: UserWarning: Optimization failed for Ka-AGE\n",
      "  warnings.warn(f\"Optimization failed for {relationship.parameter}-{relationship.covariate}\")\n"
     ]
    },
    {
     "name": "stdout",
     "output_type": "stream",
     "text": [
      "  Running onecomp_abs replicate 66/100\n",
      "NCA analysis completed. Success rate: 50/50 subjects\n"
     ]
    },
    {
     "name": "stderr",
     "output_type": "stream",
     "text": [
      "/Users/hskong/AI/PKPy/pkpy/pkpy/covariate_analysis.py:129: UserWarning: Optimization failed for Ka-AGE\n",
      "  warnings.warn(f\"Optimization failed for {relationship.parameter}-{relationship.covariate}\")\n"
     ]
    },
    {
     "name": "stdout",
     "output_type": "stream",
     "text": [
      "  Running onecomp_abs replicate 67/100\n",
      "NCA analysis completed. Success rate: 50/50 subjects\n",
      "  Running onecomp_abs replicate 68/100\n",
      "NCA analysis completed. Success rate: 50/50 subjects\n",
      "  Running onecomp_abs replicate 69/100\n",
      "NCA analysis completed. Success rate: 50/50 subjects\n",
      "  Running onecomp_abs replicate 70/100\n",
      "NCA analysis completed. Success rate: 50/50 subjects\n"
     ]
    },
    {
     "name": "stderr",
     "output_type": "stream",
     "text": [
      "/Users/hskong/AI/PKPy/pkpy/pkpy/covariate_analysis.py:129: UserWarning: Optimization failed for Ka-WT\n",
      "  warnings.warn(f\"Optimization failed for {relationship.parameter}-{relationship.covariate}\")\n"
     ]
    },
    {
     "name": "stdout",
     "output_type": "stream",
     "text": [
      "  Running onecomp_abs replicate 71/100\n",
      "NCA analysis completed. Success rate: 50/50 subjects\n",
      "  Running onecomp_abs replicate 72/100\n",
      "NCA analysis completed. Success rate: 50/50 subjects\n",
      "  Running onecomp_abs replicate 73/100\n",
      "NCA analysis completed. Success rate: 50/50 subjects\n",
      "  Running onecomp_abs replicate 74/100\n",
      "NCA analysis completed. Success rate: 50/50 subjects\n"
     ]
    },
    {
     "name": "stderr",
     "output_type": "stream",
     "text": [
      "/Users/hskong/AI/PKPy/pkpy/pkpy/covariate_analysis.py:129: UserWarning: Optimization failed for Ka-AGE\n",
      "  warnings.warn(f\"Optimization failed for {relationship.parameter}-{relationship.covariate}\")\n"
     ]
    },
    {
     "name": "stdout",
     "output_type": "stream",
     "text": [
      "  Running onecomp_abs replicate 75/100\n",
      "NCA analysis completed. Success rate: 50/50 subjects\n",
      "  Running onecomp_abs replicate 76/100\n",
      "NCA analysis completed. Success rate: 50/50 subjects\n",
      "  Running onecomp_abs replicate 77/100\n",
      "NCA analysis completed. Success rate: 50/50 subjects\n",
      "  Running onecomp_abs replicate 78/100\n",
      "NCA analysis completed. Success rate: 50/50 subjects\n",
      "  Running onecomp_abs replicate 79/100\n",
      "NCA analysis completed. Success rate: 50/50 subjects\n",
      "  Running onecomp_abs replicate 80/100\n",
      "NCA analysis completed. Success rate: 50/50 subjects\n"
     ]
    },
    {
     "name": "stderr",
     "output_type": "stream",
     "text": [
      "/Users/hskong/AI/PKPy/pkpy/pkpy/covariate_analysis.py:129: UserWarning: Optimization failed for Ka-AGE\n",
      "  warnings.warn(f\"Optimization failed for {relationship.parameter}-{relationship.covariate}\")\n"
     ]
    },
    {
     "name": "stdout",
     "output_type": "stream",
     "text": [
      "  Running onecomp_abs replicate 81/100\n",
      "NCA analysis completed. Success rate: 50/50 subjects\n",
      "  Running onecomp_abs replicate 82/100\n",
      "NCA analysis completed. Success rate: 50/50 subjects\n",
      "  Running onecomp_abs replicate 83/100\n",
      "NCA analysis completed. Success rate: 50/50 subjects\n"
     ]
    },
    {
     "name": "stderr",
     "output_type": "stream",
     "text": [
      "/Users/hskong/AI/PKPy/pkpy/pkpy/covariate_analysis.py:129: UserWarning: Optimization failed for Ka-AGE\n",
      "  warnings.warn(f\"Optimization failed for {relationship.parameter}-{relationship.covariate}\")\n"
     ]
    },
    {
     "name": "stdout",
     "output_type": "stream",
     "text": [
      "  Running onecomp_abs replicate 84/100\n",
      "NCA analysis completed. Success rate: 50/50 subjects\n",
      "  Running onecomp_abs replicate 85/100\n",
      "NCA analysis completed. Success rate: 50/50 subjects\n",
      "  Running onecomp_abs replicate 86/100\n",
      "NCA analysis completed. Success rate: 50/50 subjects\n",
      "  Running onecomp_abs replicate 87/100\n",
      "NCA analysis completed. Success rate: 50/50 subjects\n",
      "  Running onecomp_abs replicate 88/100\n",
      "NCA analysis completed. Success rate: 50/50 subjects\n",
      "  Running onecomp_abs replicate 89/100\n",
      "NCA analysis completed. Success rate: 50/50 subjects\n"
     ]
    },
    {
     "name": "stderr",
     "output_type": "stream",
     "text": [
      "/Users/hskong/AI/PKPy/pkpy/pkpy/covariate_analysis.py:129: UserWarning: Optimization failed for Ka-AGE\n",
      "  warnings.warn(f\"Optimization failed for {relationship.parameter}-{relationship.covariate}\")\n"
     ]
    },
    {
     "name": "stdout",
     "output_type": "stream",
     "text": [
      "  Running onecomp_abs replicate 90/100\n",
      "NCA analysis completed. Success rate: 50/50 subjects\n",
      "  Running onecomp_abs replicate 91/100\n",
      "NCA analysis completed. Success rate: 50/50 subjects\n",
      "  Running onecomp_abs replicate 92/100\n",
      "NCA analysis completed. Success rate: 50/50 subjects\n",
      "  Running onecomp_abs replicate 93/100\n",
      "NCA analysis completed. Success rate: 50/50 subjects\n",
      "  Running onecomp_abs replicate 94/100\n",
      "NCA analysis completed. Success rate: 50/50 subjects\n",
      "  Running onecomp_abs replicate 95/100\n",
      "NCA analysis completed. Success rate: 50/50 subjects\n",
      "  Running onecomp_abs replicate 96/100\n",
      "NCA analysis completed. Success rate: 50/50 subjects\n",
      "  Running onecomp_abs replicate 97/100\n",
      "NCA analysis completed. Success rate: 50/50 subjects\n",
      "  Running onecomp_abs replicate 98/100\n",
      "NCA analysis completed. Success rate: 50/50 subjects\n",
      "  Running onecomp_abs replicate 99/100\n",
      "NCA analysis completed. Success rate: 50/50 subjects\n",
      "  Running onecomp_abs replicate 100/100\n",
      "NCA analysis completed. Success rate: 50/50 subjects\n",
      "  Running onecomp_abs replicate 1/100\n",
      "NCA analysis completed. Success rate: 100/100 subjects\n"
     ]
    },
    {
     "name": "stderr",
     "output_type": "stream",
     "text": [
      "/Users/hskong/AI/PKPy/pkpy/pkpy/covariate_analysis.py:53: RuntimeWarning: overflow encountered in power\n",
      "  return theta * (safe_cov / safe_center) ** relationship.coefficient\n",
      "/Users/hskong/AI/PKPy/pkpy/pkpy/covariate_analysis.py:129: UserWarning: Optimization failed for Ka-AGE\n",
      "  warnings.warn(f\"Optimization failed for {relationship.parameter}-{relationship.covariate}\")\n"
     ]
    },
    {
     "name": "stdout",
     "output_type": "stream",
     "text": [
      "  Running onecomp_abs replicate 2/100\n",
      "NCA analysis completed. Success rate: 100/100 subjects\n",
      "  Running onecomp_abs replicate 3/100\n",
      "NCA analysis completed. Success rate: 100/100 subjects\n",
      "  Running onecomp_abs replicate 4/100\n",
      "NCA analysis completed. Success rate: 100/100 subjects\n",
      "  Running onecomp_abs replicate 5/100\n",
      "NCA analysis completed. Success rate: 100/100 subjects\n"
     ]
    },
    {
     "name": "stderr",
     "output_type": "stream",
     "text": [
      "/Users/hskong/AI/PKPy/pkpy/pkpy/covariate_analysis.py:129: UserWarning: Optimization failed for Ka-AGE\n",
      "  warnings.warn(f\"Optimization failed for {relationship.parameter}-{relationship.covariate}\")\n"
     ]
    },
    {
     "name": "stdout",
     "output_type": "stream",
     "text": [
      "  Running onecomp_abs replicate 6/100\n",
      "NCA analysis completed. Success rate: 100/100 subjects\n",
      "  Running onecomp_abs replicate 7/100\n",
      "NCA analysis completed. Success rate: 100/100 subjects\n",
      "  Running onecomp_abs replicate 8/100\n",
      "NCA analysis completed. Success rate: 100/100 subjects\n",
      "  Running onecomp_abs replicate 9/100\n",
      "NCA analysis completed. Success rate: 100/100 subjects\n",
      "  Running onecomp_abs replicate 10/100\n",
      "NCA analysis completed. Success rate: 100/100 subjects\n",
      "  Running onecomp_abs replicate 11/100\n",
      "NCA analysis completed. Success rate: 100/100 subjects\n"
     ]
    },
    {
     "name": "stderr",
     "output_type": "stream",
     "text": [
      "/Users/hskong/AI/PKPy/pkpy/pkpy/covariate_analysis.py:129: UserWarning: Optimization failed for Ka-AGE\n",
      "  warnings.warn(f\"Optimization failed for {relationship.parameter}-{relationship.covariate}\")\n"
     ]
    },
    {
     "name": "stdout",
     "output_type": "stream",
     "text": [
      "  Running onecomp_abs replicate 12/100\n",
      "NCA analysis completed. Success rate: 100/100 subjects\n",
      "  Running onecomp_abs replicate 13/100\n",
      "NCA analysis completed. Success rate: 100/100 subjects\n",
      "  Running onecomp_abs replicate 14/100\n",
      "NCA analysis completed. Success rate: 100/100 subjects\n",
      "  Running onecomp_abs replicate 15/100\n",
      "NCA analysis completed. Success rate: 100/100 subjects\n",
      "  Running onecomp_abs replicate 16/100\n",
      "NCA analysis completed. Success rate: 100/100 subjects\n",
      "  Running onecomp_abs replicate 17/100\n",
      "NCA analysis completed. Success rate: 100/100 subjects\n"
     ]
    },
    {
     "name": "stderr",
     "output_type": "stream",
     "text": [
      "/Users/hskong/AI/PKPy/pkpy/pkpy/covariate_analysis.py:129: UserWarning: Optimization failed for Ka-AGE\n",
      "  warnings.warn(f\"Optimization failed for {relationship.parameter}-{relationship.covariate}\")\n"
     ]
    },
    {
     "name": "stdout",
     "output_type": "stream",
     "text": [
      "  Running onecomp_abs replicate 18/100\n",
      "NCA analysis completed. Success rate: 100/100 subjects\n",
      "  Running onecomp_abs replicate 19/100\n",
      "NCA analysis completed. Success rate: 100/100 subjects\n",
      "  Running onecomp_abs replicate 20/100\n",
      "NCA analysis completed. Success rate: 100/100 subjects\n"
     ]
    },
    {
     "name": "stderr",
     "output_type": "stream",
     "text": [
      "/Users/hskong/AI/PKPy/pkpy/pkpy/covariate_analysis.py:129: UserWarning: Optimization failed for Ka-AGE\n",
      "  warnings.warn(f\"Optimization failed for {relationship.parameter}-{relationship.covariate}\")\n"
     ]
    },
    {
     "name": "stdout",
     "output_type": "stream",
     "text": [
      "  Running onecomp_abs replicate 21/100\n",
      "NCA analysis completed. Success rate: 100/100 subjects\n",
      "  Running onecomp_abs replicate 22/100\n",
      "NCA analysis completed. Success rate: 100/100 subjects\n",
      "  Running onecomp_abs replicate 23/100\n",
      "NCA analysis completed. Success rate: 100/100 subjects\n"
     ]
    },
    {
     "name": "stderr",
     "output_type": "stream",
     "text": [
      "/Users/hskong/AI/PKPy/pkpy/pkpy/covariate_analysis.py:129: UserWarning: Optimization failed for Ka-AGE\n",
      "  warnings.warn(f\"Optimization failed for {relationship.parameter}-{relationship.covariate}\")\n"
     ]
    },
    {
     "name": "stdout",
     "output_type": "stream",
     "text": [
      "  Running onecomp_abs replicate 24/100\n",
      "NCA analysis completed. Success rate: 100/100 subjects\n",
      "  Running onecomp_abs replicate 25/100\n",
      "NCA analysis completed. Success rate: 100/100 subjects\n",
      "  Running onecomp_abs replicate 26/100\n",
      "NCA analysis completed. Success rate: 100/100 subjects\n",
      "  Running onecomp_abs replicate 27/100\n",
      "NCA analysis completed. Success rate: 100/100 subjects\n"
     ]
    },
    {
     "name": "stderr",
     "output_type": "stream",
     "text": [
      "/Users/hskong/AI/PKPy/pkpy/pkpy/covariate_analysis.py:129: UserWarning: Optimization failed for Ka-AGE\n",
      "  warnings.warn(f\"Optimization failed for {relationship.parameter}-{relationship.covariate}\")\n"
     ]
    },
    {
     "name": "stdout",
     "output_type": "stream",
     "text": [
      "  Running onecomp_abs replicate 28/100\n",
      "NCA analysis completed. Success rate: 100/100 subjects\n",
      "  Running onecomp_abs replicate 29/100\n",
      "NCA analysis completed. Success rate: 100/100 subjects\n",
      "  Running onecomp_abs replicate 30/100\n",
      "NCA analysis completed. Success rate: 100/100 subjects\n",
      "  Running onecomp_abs replicate 31/100\n",
      "NCA analysis completed. Success rate: 100/100 subjects\n"
     ]
    },
    {
     "name": "stderr",
     "output_type": "stream",
     "text": [
      "/Users/hskong/AI/PKPy/pkpy/pkpy/covariate_analysis.py:53: RuntimeWarning: overflow encountered in power\n",
      "  return theta * (safe_cov / safe_center) ** relationship.coefficient\n",
      "/Users/hskong/anaconda3/lib/python3.11/site-packages/numpy/core/_methods.py:236: RuntimeWarning: invalid value encountered in subtract\n",
      "  x = asanyarray(arr - arrmean)\n",
      "/Users/hskong/AI/PKPy/pkpy/pkpy/covariate_analysis.py:129: UserWarning: Optimization failed for Ka-AGE\n",
      "  warnings.warn(f\"Optimization failed for {relationship.parameter}-{relationship.covariate}\")\n"
     ]
    },
    {
     "name": "stdout",
     "output_type": "stream",
     "text": [
      "  Running onecomp_abs replicate 32/100\n",
      "NCA analysis completed. Success rate: 100/100 subjects\n",
      "  Running onecomp_abs replicate 33/100\n",
      "NCA analysis completed. Success rate: 100/100 subjects\n",
      "  Running onecomp_abs replicate 34/100\n",
      "NCA analysis completed. Success rate: 100/100 subjects\n"
     ]
    },
    {
     "name": "stderr",
     "output_type": "stream",
     "text": [
      "/Users/hskong/AI/PKPy/pkpy/pkpy/covariate_analysis.py:129: UserWarning: Optimization failed for Ka-AGE\n",
      "  warnings.warn(f\"Optimization failed for {relationship.parameter}-{relationship.covariate}\")\n"
     ]
    },
    {
     "name": "stdout",
     "output_type": "stream",
     "text": [
      "  Running onecomp_abs replicate 35/100\n",
      "NCA analysis completed. Success rate: 100/100 subjects\n"
     ]
    },
    {
     "name": "stderr",
     "output_type": "stream",
     "text": [
      "/Users/hskong/AI/PKPy/pkpy/pkpy/covariate_analysis.py:129: UserWarning: Optimization failed for Ka-AGE\n",
      "  warnings.warn(f\"Optimization failed for {relationship.parameter}-{relationship.covariate}\")\n"
     ]
    },
    {
     "name": "stdout",
     "output_type": "stream",
     "text": [
      "  Running onecomp_abs replicate 36/100\n",
      "NCA analysis completed. Success rate: 100/100 subjects\n",
      "  Running onecomp_abs replicate 37/100\n",
      "NCA analysis completed. Success rate: 100/100 subjects\n"
     ]
    },
    {
     "name": "stderr",
     "output_type": "stream",
     "text": [
      "/Users/hskong/AI/PKPy/pkpy/pkpy/covariate_analysis.py:129: UserWarning: Optimization failed for Ka-AGE\n",
      "  warnings.warn(f\"Optimization failed for {relationship.parameter}-{relationship.covariate}\")\n"
     ]
    },
    {
     "name": "stdout",
     "output_type": "stream",
     "text": [
      "  Running onecomp_abs replicate 38/100\n",
      "NCA analysis completed. Success rate: 100/100 subjects\n",
      "  Running onecomp_abs replicate 39/100\n",
      "NCA analysis completed. Success rate: 100/100 subjects\n"
     ]
    },
    {
     "name": "stderr",
     "output_type": "stream",
     "text": [
      "/Users/hskong/AI/PKPy/pkpy/pkpy/covariate_analysis.py:53: RuntimeWarning: overflow encountered in power\n",
      "  return theta * (safe_cov / safe_center) ** relationship.coefficient\n",
      "/Users/hskong/anaconda3/lib/python3.11/site-packages/numpy/core/_methods.py:236: RuntimeWarning: invalid value encountered in subtract\n",
      "  x = asanyarray(arr - arrmean)\n"
     ]
    },
    {
     "name": "stdout",
     "output_type": "stream",
     "text": [
      "  Running onecomp_abs replicate 40/100\n",
      "NCA analysis completed. Success rate: 100/100 subjects\n",
      "  Running onecomp_abs replicate 41/100\n",
      "NCA analysis completed. Success rate: 100/100 subjects\n"
     ]
    },
    {
     "name": "stderr",
     "output_type": "stream",
     "text": [
      "/Users/hskong/AI/PKPy/pkpy/pkpy/covariate_analysis.py:129: UserWarning: Optimization failed for Ka-AGE\n",
      "  warnings.warn(f\"Optimization failed for {relationship.parameter}-{relationship.covariate}\")\n"
     ]
    },
    {
     "name": "stdout",
     "output_type": "stream",
     "text": [
      "  Running onecomp_abs replicate 42/100\n",
      "NCA analysis completed. Success rate: 100/100 subjects\n"
     ]
    },
    {
     "name": "stderr",
     "output_type": "stream",
     "text": [
      "/Users/hskong/AI/PKPy/pkpy/pkpy/covariate_analysis.py:129: UserWarning: Optimization failed for Ka-AGE\n",
      "  warnings.warn(f\"Optimization failed for {relationship.parameter}-{relationship.covariate}\")\n"
     ]
    },
    {
     "name": "stdout",
     "output_type": "stream",
     "text": [
      "  Running onecomp_abs replicate 43/100\n",
      "NCA analysis completed. Success rate: 100/100 subjects\n",
      "  Running onecomp_abs replicate 44/100\n",
      "NCA analysis completed. Success rate: 100/100 subjects\n",
      "  Running onecomp_abs replicate 45/100\n",
      "NCA analysis completed. Success rate: 100/100 subjects\n",
      "  Running onecomp_abs replicate 46/100\n",
      "NCA analysis completed. Success rate: 100/100 subjects\n",
      "  Running onecomp_abs replicate 47/100\n",
      "NCA analysis completed. Success rate: 100/100 subjects\n",
      "  Running onecomp_abs replicate 48/100\n",
      "NCA analysis completed. Success rate: 100/100 subjects\n",
      "  Running onecomp_abs replicate 49/100\n",
      "NCA analysis completed. Success rate: 100/100 subjects\n",
      "  Running onecomp_abs replicate 50/100\n",
      "NCA analysis completed. Success rate: 100/100 subjects\n",
      "  Running onecomp_abs replicate 51/100\n",
      "NCA analysis completed. Success rate: 100/100 subjects\n"
     ]
    },
    {
     "name": "stderr",
     "output_type": "stream",
     "text": [
      "/Users/hskong/AI/PKPy/pkpy/pkpy/covariate_analysis.py:53: RuntimeWarning: overflow encountered in power\n",
      "  return theta * (safe_cov / safe_center) ** relationship.coefficient\n",
      "/Users/hskong/anaconda3/lib/python3.11/site-packages/numpy/core/_methods.py:236: RuntimeWarning: invalid value encountered in subtract\n",
      "  x = asanyarray(arr - arrmean)\n"
     ]
    },
    {
     "name": "stdout",
     "output_type": "stream",
     "text": [
      "  Running onecomp_abs replicate 52/100\n",
      "NCA analysis completed. Success rate: 100/100 subjects\n",
      "  Running onecomp_abs replicate 53/100\n",
      "NCA analysis completed. Success rate: 100/100 subjects\n",
      "  Running onecomp_abs replicate 54/100\n",
      "NCA analysis completed. Success rate: 100/100 subjects\n",
      "  Running onecomp_abs replicate 55/100\n",
      "NCA analysis completed. Success rate: 100/100 subjects\n",
      "  Running onecomp_abs replicate 56/100\n",
      "NCA analysis completed. Success rate: 100/100 subjects\n"
     ]
    },
    {
     "name": "stderr",
     "output_type": "stream",
     "text": [
      "/Users/hskong/AI/PKPy/pkpy/pkpy/covariate_analysis.py:129: UserWarning: Optimization failed for Ka-AGE\n",
      "  warnings.warn(f\"Optimization failed for {relationship.parameter}-{relationship.covariate}\")\n"
     ]
    },
    {
     "name": "stdout",
     "output_type": "stream",
     "text": [
      "  Running onecomp_abs replicate 57/100\n",
      "NCA analysis completed. Success rate: 100/100 subjects\n"
     ]
    },
    {
     "name": "stderr",
     "output_type": "stream",
     "text": [
      "/Users/hskong/AI/PKPy/pkpy/pkpy/covariate_analysis.py:129: UserWarning: Optimization failed for Ka-AGE\n",
      "  warnings.warn(f\"Optimization failed for {relationship.parameter}-{relationship.covariate}\")\n"
     ]
    },
    {
     "name": "stdout",
     "output_type": "stream",
     "text": [
      "  Running onecomp_abs replicate 58/100\n",
      "NCA analysis completed. Success rate: 100/100 subjects\n",
      "  Running onecomp_abs replicate 59/100\n",
      "NCA analysis completed. Success rate: 100/100 subjects\n",
      "  Running onecomp_abs replicate 60/100\n",
      "NCA analysis completed. Success rate: 100/100 subjects\n",
      "  Running onecomp_abs replicate 61/100\n",
      "NCA analysis completed. Success rate: 100/100 subjects\n"
     ]
    },
    {
     "name": "stderr",
     "output_type": "stream",
     "text": [
      "/Users/hskong/AI/PKPy/pkpy/pkpy/covariate_analysis.py:129: UserWarning: Optimization failed for Ka-AGE\n",
      "  warnings.warn(f\"Optimization failed for {relationship.parameter}-{relationship.covariate}\")\n"
     ]
    },
    {
     "name": "stdout",
     "output_type": "stream",
     "text": [
      "  Running onecomp_abs replicate 62/100\n",
      "NCA analysis completed. Success rate: 100/100 subjects\n",
      "  Running onecomp_abs replicate 63/100\n",
      "NCA analysis completed. Success rate: 100/100 subjects\n",
      "  Running onecomp_abs replicate 64/100\n",
      "NCA analysis completed. Success rate: 100/100 subjects\n",
      "  Running onecomp_abs replicate 65/100\n",
      "NCA analysis completed. Success rate: 100/100 subjects\n"
     ]
    },
    {
     "name": "stderr",
     "output_type": "stream",
     "text": [
      "/Users/hskong/AI/PKPy/pkpy/pkpy/covariate_analysis.py:129: UserWarning: Optimization failed for Ka-AGE\n",
      "  warnings.warn(f\"Optimization failed for {relationship.parameter}-{relationship.covariate}\")\n"
     ]
    },
    {
     "name": "stdout",
     "output_type": "stream",
     "text": [
      "  Running onecomp_abs replicate 66/100\n",
      "NCA analysis completed. Success rate: 100/100 subjects\n",
      "  Running onecomp_abs replicate 67/100\n",
      "NCA analysis completed. Success rate: 100/100 subjects\n"
     ]
    },
    {
     "name": "stderr",
     "output_type": "stream",
     "text": [
      "/Users/hskong/AI/PKPy/pkpy/pkpy/covariate_analysis.py:129: UserWarning: Optimization failed for Ka-AGE\n",
      "  warnings.warn(f\"Optimization failed for {relationship.parameter}-{relationship.covariate}\")\n"
     ]
    },
    {
     "name": "stdout",
     "output_type": "stream",
     "text": [
      "  Running onecomp_abs replicate 68/100\n",
      "NCA analysis completed. Success rate: 100/100 subjects\n"
     ]
    },
    {
     "name": "stderr",
     "output_type": "stream",
     "text": [
      "/Users/hskong/AI/PKPy/pkpy/pkpy/covariate_analysis.py:53: RuntimeWarning: overflow encountered in power\n",
      "  return theta * (safe_cov / safe_center) ** relationship.coefficient\n",
      "/Users/hskong/anaconda3/lib/python3.11/site-packages/numpy/core/_methods.py:236: RuntimeWarning: invalid value encountered in subtract\n",
      "  x = asanyarray(arr - arrmean)\n"
     ]
    },
    {
     "name": "stdout",
     "output_type": "stream",
     "text": [
      "  Running onecomp_abs replicate 69/100\n",
      "NCA analysis completed. Success rate: 100/100 subjects\n",
      "  Running onecomp_abs replicate 70/100\n",
      "NCA analysis completed. Success rate: 100/100 subjects\n",
      "  Running onecomp_abs replicate 71/100\n",
      "NCA analysis completed. Success rate: 100/100 subjects\n",
      "  Running onecomp_abs replicate 72/100\n",
      "NCA analysis completed. Success rate: 100/100 subjects\n",
      "  Running onecomp_abs replicate 73/100\n",
      "NCA analysis completed. Success rate: 100/100 subjects\n",
      "  Running onecomp_abs replicate 74/100\n",
      "NCA analysis completed. Success rate: 100/100 subjects\n",
      "  Running onecomp_abs replicate 75/100\n",
      "NCA analysis completed. Success rate: 100/100 subjects\n"
     ]
    },
    {
     "name": "stderr",
     "output_type": "stream",
     "text": [
      "/Users/hskong/AI/PKPy/pkpy/pkpy/covariate_analysis.py:129: UserWarning: Optimization failed for Ka-AGE\n",
      "  warnings.warn(f\"Optimization failed for {relationship.parameter}-{relationship.covariate}\")\n"
     ]
    },
    {
     "name": "stdout",
     "output_type": "stream",
     "text": [
      "  Running onecomp_abs replicate 76/100\n",
      "NCA analysis completed. Success rate: 100/100 subjects\n",
      "  Running onecomp_abs replicate 77/100\n",
      "NCA analysis completed. Success rate: 100/100 subjects\n",
      "  Running onecomp_abs replicate 78/100\n",
      "NCA analysis completed. Success rate: 100/100 subjects\n"
     ]
    },
    {
     "name": "stderr",
     "output_type": "stream",
     "text": [
      "/Users/hskong/AI/PKPy/pkpy/pkpy/covariate_analysis.py:129: UserWarning: Optimization failed for Ka-AGE\n",
      "  warnings.warn(f\"Optimization failed for {relationship.parameter}-{relationship.covariate}\")\n"
     ]
    },
    {
     "name": "stdout",
     "output_type": "stream",
     "text": [
      "  Running onecomp_abs replicate 79/100\n",
      "NCA analysis completed. Success rate: 100/100 subjects\n",
      "  Running onecomp_abs replicate 80/100\n",
      "NCA analysis completed. Success rate: 100/100 subjects\n",
      "  Running onecomp_abs replicate 81/100\n",
      "NCA analysis completed. Success rate: 100/100 subjects\n",
      "  Running onecomp_abs replicate 82/100\n",
      "NCA analysis completed. Success rate: 100/100 subjects\n"
     ]
    },
    {
     "name": "stderr",
     "output_type": "stream",
     "text": [
      "/Users/hskong/AI/PKPy/pkpy/pkpy/covariate_analysis.py:129: UserWarning: Optimization failed for Ka-AGE\n",
      "  warnings.warn(f\"Optimization failed for {relationship.parameter}-{relationship.covariate}\")\n"
     ]
    },
    {
     "name": "stdout",
     "output_type": "stream",
     "text": [
      "  Running onecomp_abs replicate 83/100\n",
      "NCA analysis completed. Success rate: 100/100 subjects\n",
      "  Running onecomp_abs replicate 84/100\n",
      "NCA analysis completed. Success rate: 100/100 subjects\n",
      "  Running onecomp_abs replicate 85/100\n",
      "NCA analysis completed. Success rate: 100/100 subjects\n"
     ]
    },
    {
     "name": "stderr",
     "output_type": "stream",
     "text": [
      "/Users/hskong/AI/PKPy/pkpy/pkpy/covariate_analysis.py:129: UserWarning: Optimization failed for Ka-AGE\n",
      "  warnings.warn(f\"Optimization failed for {relationship.parameter}-{relationship.covariate}\")\n"
     ]
    },
    {
     "name": "stdout",
     "output_type": "stream",
     "text": [
      "  Running onecomp_abs replicate 86/100\n",
      "NCA analysis completed. Success rate: 100/100 subjects\n",
      "  Running onecomp_abs replicate 87/100\n",
      "NCA analysis completed. Success rate: 100/100 subjects\n"
     ]
    },
    {
     "name": "stderr",
     "output_type": "stream",
     "text": [
      "/Users/hskong/AI/PKPy/pkpy/pkpy/covariate_analysis.py:129: UserWarning: Optimization failed for Ka-AGE\n",
      "  warnings.warn(f\"Optimization failed for {relationship.parameter}-{relationship.covariate}\")\n"
     ]
    },
    {
     "name": "stdout",
     "output_type": "stream",
     "text": [
      "  Running onecomp_abs replicate 88/100\n",
      "NCA analysis completed. Success rate: 100/100 subjects\n",
      "  Running onecomp_abs replicate 89/100\n",
      "NCA analysis completed. Success rate: 100/100 subjects\n",
      "  Running onecomp_abs replicate 90/100\n",
      "NCA analysis completed. Success rate: 100/100 subjects\n",
      "  Running onecomp_abs replicate 91/100\n",
      "NCA analysis completed. Success rate: 100/100 subjects\n",
      "  Running onecomp_abs replicate 92/100\n",
      "NCA analysis completed. Success rate: 100/100 subjects\n",
      "  Running onecomp_abs replicate 93/100\n",
      "NCA analysis completed. Success rate: 100/100 subjects\n",
      "  Running onecomp_abs replicate 94/100\n",
      "NCA analysis completed. Success rate: 100/100 subjects\n",
      "  Running onecomp_abs replicate 95/100\n",
      "NCA analysis completed. Success rate: 100/100 subjects\n",
      "  Running onecomp_abs replicate 96/100\n",
      "NCA analysis completed. Success rate: 100/100 subjects\n"
     ]
    },
    {
     "name": "stderr",
     "output_type": "stream",
     "text": [
      "/Users/hskong/AI/PKPy/pkpy/pkpy/covariate_analysis.py:129: UserWarning: Optimization failed for Ka-AGE\n",
      "  warnings.warn(f\"Optimization failed for {relationship.parameter}-{relationship.covariate}\")\n"
     ]
    },
    {
     "name": "stdout",
     "output_type": "stream",
     "text": [
      "  Running onecomp_abs replicate 97/100\n",
      "NCA analysis completed. Success rate: 100/100 subjects\n"
     ]
    },
    {
     "name": "stderr",
     "output_type": "stream",
     "text": [
      "/Users/hskong/AI/PKPy/pkpy/pkpy/covariate_analysis.py:53: RuntimeWarning: overflow encountered in power\n",
      "  return theta * (safe_cov / safe_center) ** relationship.coefficient\n",
      "/Users/hskong/anaconda3/lib/python3.11/site-packages/numpy/core/_methods.py:236: RuntimeWarning: invalid value encountered in subtract\n",
      "  x = asanyarray(arr - arrmean)\n"
     ]
    },
    {
     "name": "stdout",
     "output_type": "stream",
     "text": [
      "  Running onecomp_abs replicate 98/100\n",
      "NCA analysis completed. Success rate: 100/100 subjects\n"
     ]
    },
    {
     "name": "stderr",
     "output_type": "stream",
     "text": [
      "/Users/hskong/AI/PKPy/pkpy/pkpy/covariate_analysis.py:129: UserWarning: Optimization failed for Ka-AGE\n",
      "  warnings.warn(f\"Optimization failed for {relationship.parameter}-{relationship.covariate}\")\n"
     ]
    },
    {
     "name": "stdout",
     "output_type": "stream",
     "text": [
      "  Running onecomp_abs replicate 99/100\n",
      "NCA analysis completed. Success rate: 100/100 subjects\n",
      "  Running onecomp_abs replicate 100/100\n",
      "NCA analysis completed. Success rate: 100/100 subjects\n",
      "\n",
      "Parameter Estimation Results:\n",
      "|    | Model       |   N Subjects |   Ka Bias (%) |   Ka RMSE |   Ka CV (%) |   Ka Recovery (%) |   CL Bias (%) |   CL RMSE |   CL CV (%) |   CL Recovery (%) |   V Bias (%) |   V RMSE |   V CV (%) |   V Recovery (%) |   Mean R² |   Success Rate (%) |\n",
      "|---:|:------------|-------------:|--------------:|----------:|------------:|------------------:|--------------:|----------:|------------:|------------------:|-------------:|---------:|-----------:|-----------------:|----------:|-------------------:|\n",
      "|  0 | onecomp     |           20 |        nan    |    nan    |      nan    |                 0 |         -2.88 |      0.45 |        8.81 |                98 |         0.77 |     3.86 |       7.66 |              100 |      0.98 |            3333.33 |\n",
      "|  1 | onecomp     |           50 |        nan    |    nan    |      nan    |                 0 |         -2.36 |      0.27 |        5.09 |               100 |        -1.03 |     2.4  |       4.75 |              100 |      0.97 |            3333.33 |\n",
      "|  2 | onecomp     |          100 |        nan    |    nan    |      nan    |                 0 |         -2.21 |      0.22 |        3.87 |               100 |        -0.94 |     1.86 |       3.65 |              100 |      0.97 |            3333.33 |\n",
      "|  3 | onecomp_abs |           20 |        -42.83 |      0.51 |       48.97 |                10 |         -9.36 |      0.71 |       11.98 |                84 |        17.62 |    11.07 |      11.45 |               61 |      0.99 |            3333.33 |\n",
      "|  4 | onecomp_abs |           50 |        -46.63 |      0.48 |       24.31 |                 4 |        -10.33 |      0.59 |        6.33 |                96 |        15.94 |     8.9  |       6.88 |               70 |      0.99 |            3333.33 |\n",
      "|  5 | onecomp_abs |          100 |        -46.56 |      0.47 |       16.35 |                 0 |         -9.08 |      0.51 |        5    |                99 |        15.88 |     8.43 |       4.89 |               76 |      0.99 |            3333.33 |\n",
      "\n",
      "Covariate Analysis Results:\n",
      "|    | Model       |   N Subjects |   CL-CRCL Detection (%) |   V-WT Detection (%) |   Ka-AGE Detection (%) |\n",
      "|---:|:------------|-------------:|------------------------:|---------------------:|-----------------------:|\n",
      "|  0 | onecomp     |           20 |                     100 |                  100 |                    nan |\n",
      "|  1 | onecomp     |           50 |                     100 |                  100 |                    nan |\n",
      "|  2 | onecomp     |          100 |                     100 |                  100 |                    nan |\n",
      "|  3 | onecomp_abs |           20 |                     100 |                  100 |                    100 |\n",
      "|  4 | onecomp_abs |           50 |                     100 |                  100 |                    100 |\n",
      "|  5 | onecomp_abs |          100 |                     100 |                  100 |                    100 |\n"
     ]
    },
    {
     "data": {
      "image/png": "[encoded data removed]",
      "text/plain": [
       "<Figure size 1500x500 with 3 Axes>"
      ]
     },
     "metadata": {},
     "output_type": "display_data"
    },
    {
     "data": {
      "image/png": "[encoded data removed]",
      "text/plain": [
       "<Figure size 800x600 with 1 Axes>"
      ]
     },
     "metadata": {},
     "output_type": "display_data"
    }
   ],
   "source": [
    "import numpy as np\n",
    "import pandas as pd\n",
    "import matplotlib.pyplot as plt\n",
    "import seaborn as sns\n",
    "from pkpy import create_pkpy_model, BasePKWorkflow\n",
    "\n",
    "def run_simulation(model_type, n_subjects, n_replicates=3):\n",
    "    results_list = []\n",
    "    covariate_detection = []\n",
    "    \n",
    "    if model_type == \"onecomp\":\n",
    "        parameters = {\n",
    "            \"CL\": {\"value\": 5.0, \"cv_percent\": 30, \"lower_bound\": 0.1},\n",
    "            \"V\": {\"value\": 50.0, \"cv_percent\": 30, \"lower_bound\": 1.0}\n",
    "        }\n",
    "        covariate_models = {\n",
    "            'CL': {'CRCL': {'type': 'power', 'coefficient': 0.75}},\n",
    "            'V': {'WT': {'type': 'power', 'coefficient': 0.75}}\n",
    "        }\n",
    "        \n",
    "    else:  # onecomp_abs\n",
    "        parameters = {\n",
    "            \"Ka\": {\"value\": 1.0, \"cv_percent\": 30, \"lower_bound\": 0.1},\n",
    "            \"CL\": {\"value\": 5.0, \"cv_percent\": 30, \"lower_bound\": 0.1},\n",
    "            \"V\": {\"value\": 50.0, \"cv_percent\": 30, \"lower_bound\": 1.0}\n",
    "        }\n",
    "        covariate_models = {\n",
    "            'CL': {'CRCL': {'type': 'power', 'coefficient': 0.75}},\n",
    "            'V': {'WT': {'type': 'power', 'coefficient': 0.75}},\n",
    "            'Ka': {'AGE': {'type': 'exp', 'coefficient': -0.2}}\n",
    "        }\n",
    "\n",
    "    # Time points\n",
    "    if model_type == \"onecomp\":\n",
    "        times = np.linspace(0, 24, 10)\n",
    "    else:\n",
    "        early_times = np.linspace(0, 2, 6)\n",
    "        late_times = np.array([3, 4, 6, 8, 12, 24])\n",
    "        times = np.concatenate([early_times, late_times])\n",
    "\n",
    "    successful_runs = 0\n",
    "    max_attempts = n_replicates + 10\n",
    "    attempt = 0\n",
    "\n",
    "    while successful_runs < n_replicates and attempt < max_attempts:\n",
    "        attempt += 1\n",
    "        try:\n",
    "            print(f\"  Running {model_type} replicate {successful_runs + 1}/{n_replicates}\")\n",
    "            \n",
    "            model = create_pkpy_model(model_type, parameters)\n",
    "            workflow = BasePKWorkflow(model, n_subjects=n_subjects)\n",
    "            \n",
    "            workflow.generate_virtual_population(\n",
    "                times, \n",
    "                covariate_models=covariate_models\n",
    "            )\n",
    "            results = workflow.run_analysis()\n",
    "            \n",
    "            if results.get('model_fit'):\n",
    "                result_dict = {\n",
    "                    'model_type': model_type,\n",
    "                    'n_subjects': n_subjects,\n",
    "                    'replicate': successful_runs + 1,\n",
    "                    'R2': results.get('fit_metrics', {}).get('R2', np.nan)\n",
    "                }\n",
    "                \n",
    "                # Add parameter estimates\n",
    "                for param, value in results['model_fit']['parameters'].items():\n",
    "                    result_dict[f'{param}_est'] = value\n",
    "                \n",
    "                results_list.append(result_dict)\n",
    "                \n",
    "                # Save covariate analysis results\n",
    "                if 'covariate_analysis' in results and results['covariate_analysis']:\n",
    "                    cov_dict = {\n",
    "                        'model_type': model_type,\n",
    "                        'n_subjects': n_subjects,\n",
    "                        'replicate': successful_runs + 1\n",
    "                    }\n",
    "                    \n",
    "                    detected_rels = results['covariate_analysis']['selected_relationships']\n",
    "                    #print(detected_rels)\n",
    "                    for rel in detected_rels:\n",
    "                        key = f\"{rel.parameter}_{rel.covariate}\"\n",
    "                        cov_dict[key] = rel.coefficient\n",
    "                        #cov_dict[f\"{key}_type\"] = rel.relationship\n",
    "                    \n",
    "                    covariate_detection.append(cov_dict)\n",
    "                \n",
    "                successful_runs += 1\n",
    "                \n",
    "        except Exception as e:\n",
    "            print(f\"  Simulation failed: {str(e)}\")\n",
    "            continue\n",
    "            \n",
    "    return pd.DataFrame(results_list), pd.DataFrame(covariate_detection)\n",
    "\n",
    "def create_summary_table(results):\n",
    "    summary = []\n",
    "    \n",
    "    # True values for each parameter\n",
    "    true_values = {\n",
    "        'Ka': 1.0,\n",
    "        'CL': 5.0,\n",
    "        'V': 50.0\n",
    "    }\n",
    "    \n",
    "    for model_type in results['model_type'].unique():\n",
    "        model_results = results[results['model_type'] == model_type]\n",
    "        \n",
    "        for n in model_results['n_subjects'].unique():\n",
    "            subset = model_results[model_results['n_subjects'] == n]\n",
    "            \n",
    "            summary_dict = {\n",
    "                'Model': model_type,\n",
    "                'N Subjects': n\n",
    "            }\n",
    "            \n",
    "            # Calculate statistics for each parameter\n",
    "            for param in true_values.keys():\n",
    "                est_col = f'{param}_est'\n",
    "                if est_col in subset.columns:\n",
    "                    true_val = true_values[param]\n",
    "                    bias = ((subset[est_col].mean() - true_val) / true_val) * 100\n",
    "                    rmse = np.sqrt(np.mean((subset[est_col] - true_val)**2))\n",
    "                    cv = (subset[est_col].std() / subset[est_col].mean()) * 100\n",
    "                    recovery_rate = sum(abs(subset[est_col] - true_val) / true_val <= 0.2) / len(subset) * 100\n",
    "                    \n",
    "                    summary_dict.update({\n",
    "                        f'{param} Bias (%)': bias,\n",
    "                        f'{param} RMSE': rmse,\n",
    "                        f'{param} CV (%)': cv,\n",
    "                        f'{param} Recovery (%)': recovery_rate\n",
    "                    })\n",
    "            \n",
    "            summary_dict.update({\n",
    "                'Mean R²': subset['R2'].mean(),\n",
    "                'Success Rate (%)': len(subset) / 3 * 100\n",
    "            })\n",
    "            \n",
    "            summary.append(summary_dict)\n",
    "    \n",
    "    return pd.DataFrame(summary)\n",
    "\n",
    "def create_covariate_summary(cov_results):\n",
    "    \"\"\"Covariate 분석 결과 요약\"\"\"\n",
    "    summary = []\n",
    "    \n",
    "    for model_type in cov_results['model_type'].unique():\n",
    "        model_results = cov_results[cov_results['model_type'] == model_type]\n",
    "        \n",
    "        for n in model_results['n_subjects'].unique():\n",
    "            subset = model_results[model_results['n_subjects'] == n]\n",
    "            n_total = len(subset)\n",
    "            \n",
    "            # CL-CRCL\n",
    "            cl_detected = sum('CL_CRCL' in row for _, row in subset.iterrows())\n",
    "            cl_detection_rate = (cl_detected / n_total) * 100\n",
    "            \n",
    "            # V-WT\n",
    "            v_detected = sum('V_WT' in row for _, row in subset.iterrows())\n",
    "            v_detection_rate = (v_detected / n_total) * 100\n",
    "            \n",
    "            # Ka-AGE\n",
    "            if model_type == 'onecomp_abs':\n",
    "                ka_detected = sum('Ka_AGE' in row for _, row in subset.iterrows())\n",
    "                ka_detection_rate = (ka_detected / n_total) * 100\n",
    "            else:\n",
    "                ka_detection_rate = np.nan\n",
    "                \n",
    "            summary.append({\n",
    "                'Model': model_type,\n",
    "                'N Subjects': n,\n",
    "                'CL-CRCL Detection (%)': cl_detection_rate,\n",
    "                'V-WT Detection (%)': v_detection_rate,\n",
    "                'Ka-AGE Detection (%)': ka_detection_rate\n",
    "            })\n",
    "    \n",
    "    return pd.DataFrame(summary)\n",
    "\n",
    "def plot_parameter_recovery(results):\n",
    "    true_values = {'Ka': 1.0, 'CL': 5.0, 'V': 50.0}\n",
    "    parameters = [p for p in ['Ka', 'CL', 'V'] if f'{p}_est' in results.columns]\n",
    "    n_params = len(parameters)\n",
    "    \n",
    "    fig, axes = plt.subplots(1, n_params, figsize=(5*n_params, 5))\n",
    "\n",
    "    if n_params == 1:\n",
    "        axes = [axes]\n",
    "    \n",
    "    for i, param in enumerate(parameters):\n",
    "        est_col = f'{param}_est'\n",
    "        true_val = true_values[param]\n",
    "        \n",
    "        # Boxplot\n",
    "        sns.boxplot(x='n_subjects', y=est_col, hue='model_type', data=results, ax=axes[i])\n",
    "        axes[i].axhline(y=true_val, color='r', linestyle='--', label='True value')\n",
    "        axes[i].set_title(f'{param} Estimation by Sample Size') \n",
    "        axes[i].set_xlabel('Number of Subjects')  \n",
    "        axes[i].set_ylabel(f'Estimated {param}')\n",
    "        axes[i].legend()\n",
    "    \n",
    "    plt.tight_layout()\n",
    "    return fig\n",
    "\n",
    "# 시뮬레이션 실행\n",
    "n_subjects_list = [20, 50, 100]\n",
    "model_types = [\"onecomp\", \"onecomp_abs\"]\n",
    "all_results = pd.DataFrame()\n",
    "all_covariate_results = pd.DataFrame()\n",
    "\n",
    "for model in model_types:\n",
    "    for n in n_subjects_list:\n",
    "        results, cov_results = run_simulation(model, n, n_replicates=100)\n",
    "        all_results = pd.concat([all_results, results])\n",
    "        all_covariate_results = pd.concat([all_covariate_results, cov_results])\n",
    "\n",
    "# results summary\n",
    "print(\"\\nParameter Estimation Results:\")\n",
    "summary_table = create_summary_table(all_results)\n",
    "print(summary_table.round(2).to_markdown())\n",
    "\n",
    "print(\"\\nCovariate Analysis Results:\")\n",
    "covariate_summary = create_covariate_summary(all_covariate_results)\n",
    "print(covariate_summary.round(2).to_markdown())\n",
    "\n",
    "# visualization\n",
    "plot_parameter_recovery(all_results)\n",
    "plt.show()\n",
    "\n",
    "# R² distribution\n",
    "plt.figure(figsize=(8, 6))\n",
    "sns.boxplot(x='n_subjects', y='R2', hue='model_type', data=all_results)\n",
    "plt.title('Model Fit Quality by Sample Size and Model Type')\n",
    "plt.xlabel('Number of Subjects')\n",
    "plt.ylabel('R²')\n",
    "plt.show()"
   ]
  },
  {
   "cell_type": "code",
   "execution_count": null,
   "metadata": {},
   "outputs": [],
   "source": []
  },
  {
   "cell_type": "code",
   "execution_count": null,
   "metadata": {},
   "outputs": [],
   "source": []
  },
  {
   "cell_type": "code",
   "execution_count": null,
   "metadata": {},
   "outputs": [],
   "source": []
  }
 ],
 "metadata": {
  "kernelspec": {
   "display_name": "base",
   "language": "python",
   "name": "python3"
  },
  "language_info": {
   "codemirror_mode": {
    "name": "ipython",
    "version": 3
   },
   "file_extension": ".py",
   "mimetype": "text/x-python",
   "name": "python",
   "nbconvert_exporter": "python",
   "pygments_lexer": "ipython3",
   "version": "3.11.7"
  }
 },
 "nbformat": 4,
 "nbformat_minor": 2
}

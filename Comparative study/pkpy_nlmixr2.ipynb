{
  "nbformat": 4,
  "nbformat_minor": 0,
  "metadata": {
    "colab": {
      "provenance": []
    },
    "kernelspec": {
      "name": "ir",
      "display_name": "R"
    },
    "language_info": {
      "name": "R"
    }
  },
  "cells": [
    {
      "cell_type": "code",
      "source": [
        "start_time <- proc.time()\n",
        "# 먼저 시스템 의존성 설치\n",
        "system('apt-get update && apt-get install -y libgfortran5')\n",
        "\n",
        "# R 패키지 설치\n",
        "install.packages(\"remotes\")\n",
        "remotes::install_version(\"symengine\", version = \"0.1.6\")\n",
        "\n",
        "# nlmixr2 설치 전에 필요한 의존성 패키지들 설치\n",
        "install.packages(c(\"Rcpp\", \"RcppArmadillo\", \"dparser\"))\n",
        "\n",
        "# nlmixr2 설치\n",
        "install.packages(\"nlmixr2\", dependencies=TRUE)\n",
        "proc.time() - start_time"
      ],
      "metadata": {
        "colab": {
          "base_uri": "https://localhost:8080/",
          "height": 593
        },
        "id": "Hf-cxgYTQT1d",
        "outputId": "ae3475a5-f4b0-4ab5-e3e3-f89bcf87c76d"
      },
      "execution_count": 1,
      "outputs": [
        {
          "output_type": "stream",
          "name": "stderr",
          "text": [
            "Installing package into ‘/usr/local/lib/R/site-library’\n",
            "(as ‘lib’ is unspecified)\n",
            "\n",
            "Downloading package from url: https://cran.rstudio.com/src/contrib/Archive/symengine/symengine_0.1.6.tar.gz\n",
            "\n"
          ]
        },
        {
          "output_type": "stream",
          "name": "stdout",
          "text": [
            "\n"
          ]
        },
        {
          "output_type": "stream",
          "name": "stderr",
          "text": [
            "Installing package into ‘/usr/local/lib/R/site-library’\n",
            "(as ‘lib’ is unspecified)\n",
            "\n",
            "Warning message in i.p(...):\n",
            "“installation of package ‘/tmp/RtmpD8Z6Fn/remotes23d2e315c24/symengine’ had non-zero exit status”\n",
            "Installing packages into ‘/usr/local/lib/R/site-library’\n",
            "(as ‘lib’ is unspecified)\n",
            "\n",
            "Installing package into ‘/usr/local/lib/R/site-library’\n",
            "(as ‘lib’ is unspecified)\n",
            "\n",
            "also installing the dependencies ‘proxy’, ‘rootSolve’, ‘lmom’, ‘markdown’, ‘jpeg’, ‘e1071’, ‘mvtnorm’, ‘expm’, ‘Exact’, ‘gld’, ‘gridExtra’, ‘htmlTable’, ‘viridis’, ‘Formula’, ‘bitops’, ‘numDeriv’, ‘lazyeval’, ‘gridtext’, ‘RApiSerialize’, ‘stringfish’, ‘classInt’, ‘assertthat’, ‘binom’, ‘Deriv’, ‘DescTools’, ‘Hmisc’, ‘minpack.lm’, ‘pander’, ‘png’, ‘RCurl’, ‘checkmate’, ‘lbfgsb3c’, ‘minqa’, ‘rex’, ‘symengine’, ‘BH’, ‘RcppEigen’, ‘ggtext’, ‘PreciseSums’, ‘inline’, ‘rxode2ll’, ‘qs’, ‘sitmo’, ‘RcppParallel’, ‘StanHeaders’, ‘cpp11armadillo’, ‘vpc’, ‘xgxr’, ‘nlmixr2data’, ‘nlmixr2est’, ‘nlmixr2extra’, ‘rxode2’, ‘lotri’, ‘nlmixr2plot’, ‘n1qn1’\n",
            "\n",
            "\n",
            "Warning message in install.packages(\"nlmixr2\", dependencies = TRUE):\n",
            "“installation of package ‘symengine’ had non-zero exit status”\n",
            "Warning message in install.packages(\"nlmixr2\", dependencies = TRUE):\n",
            "“installation of package ‘nlmixr2est’ had non-zero exit status”\n",
            "Warning message in install.packages(\"nlmixr2\", dependencies = TRUE):\n",
            "“installation of package ‘nlmixr2extra’ had non-zero exit status”\n",
            "Warning message in install.packages(\"nlmixr2\", dependencies = TRUE):\n",
            "“installation of package ‘nlmixr2plot’ had non-zero exit status”\n",
            "Warning message in install.packages(\"nlmixr2\", dependencies = TRUE):\n",
            "“installation of package ‘nlmixr2’ had non-zero exit status”\n"
          ]
        },
        {
          "output_type": "display_data",
          "data": {
            "text/plain": [
              "    user   system  elapsed \n",
              "1537.453  121.124 1713.019 "
            ]
          },
          "metadata": {}
        }
      ]
    },
    {
      "cell_type": "code",
      "execution_count": 2,
      "metadata": {
        "colab": {
          "base_uri": "https://localhost:8080/",
          "height": 106
        },
        "id": "wqMBra8fINDT",
        "outputId": "6e699039-f20d-4512-f30e-d29dc054c8e4"
      },
      "outputs": [
        {
          "output_type": "error",
          "ename": "ERROR",
          "evalue": "Error in library(nlmixr2): there is no package called ‘nlmixr2’\n",
          "traceback": [
            "Error in library(nlmixr2): there is no package called ‘nlmixr2’\nTraceback:\n",
            "1. stop(packageNotFoundError(package, lib.loc, sys.call()))"
          ]
        }
      ],
      "source": [
        "start_time <- proc.time()\n",
        "\n",
        "library(nlmixr2)\n",
        "library(ggplot2)\n",
        "\n",
        "data(Theoph)\n",
        "\n",
        "one.comp <- function() {\n",
        "  ini({\n",
        "    tka ~ .\n",
        "    tcl ~ .\n",
        "    tv ~ .\n",
        "\n",
        "    eta.ka ~ .\n",
        "    eta.cl ~ .\n",
        "    eta.v ~ .\n",
        "\n",
        "    prop.err ~ .\n",
        "  })\n",
        "  model({\n",
        "    ka <- exp(tka + eta.ka)\n",
        "    cl <- exp(tcl + eta.cl)\n",
        "    v <- exp(tv + eta.v)\n",
        "\n",
        "    d/dt(depot) = -ka * depot\n",
        "    d/dt(center) = ka * depot - (cl/v) * center\n",
        "\n",
        "    cp = center/v\n",
        "\n",
        "    cp ~ prop(prop.err)\n",
        "  })\n",
        "}\n",
        "\n",
        "# niter: 총 반복 횟수\n",
        "# nburn: burn-in 기간 (초기 수렴 단계)\n",
        "fit <- nlmixr2(one.comp, Theoph, est=\"saem\",\n",
        "               control=list(auto=TRUE,\n",
        "                          niter=9999,  # 총 반복 횟수를 9999로 설정\n",
        "                          nburn=2999)) # burn-in 기간은 총 반복의 약 30%로 설정\n",
        "\n",
        "print(fit)\n",
        "\n",
        "proc.time() - start_time"
      ]
    },
    {
      "cell_type": "code",
      "source": [],
      "metadata": {
        "id": "5oRCoy4IITde"
      },
      "execution_count": null,
      "outputs": []
    }
  ]
}